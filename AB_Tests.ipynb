{
 "cells": [
  {
   "cell_type": "code",
   "execution_count": 27,
   "metadata": {
    "collapsed": true
   },
   "outputs": [],
   "source": [
    "import pandas as pd #import the libraries \n",
    "import numpy as np\n",
    "import matplotlib.pyplot as plt\n",
    "import statsmodels.api as sm\n",
    "\n",
    "from scipy.special import betaln as lbeta\n",
    "from statsmodels.formula.api import ols\n",
    "from statsmodels.graphics.api import interaction_plot, abline_plot\n",
    "from statsmodels.stats.anova import anova_lm\n",
    "\n",
    "import warnings\n",
    "warnings.filterwarnings('ignore')\n",
    "import matplotlib\n",
    "%matplotlib inline"
   ]
  },
  {
   "cell_type": "code",
   "execution_count": 28,
   "metadata": {
    "collapsed": true
   },
   "outputs": [],
   "source": [
    "data = pd.read_csv(\"./league_email_experiment.csv\")\n",
    "data.email[data.iloc[:, 1] == \"A\"] = 0\n",
    "data.email[data.iloc[:, 1] == \"B\"] = 1"
   ]
  },
  {
   "cell_type": "code",
   "execution_count": 33,
   "metadata": {},
   "outputs": [
    {
     "data": {
      "image/png": "[encoded data removed]",
      "text/plain": [
       "<matplotlib.figure.Figure at 0x7fac33a8bfd0>"
      ]
     },
     "metadata": {},
     "output_type": "display_data"
    }
   ],
   "source": [
    "import seaborn as sns  #visualize email-type against target variable \n",
    "plt.figure(figsize=(8,6))\n",
    "\n",
    "sns.countplot(x=\"email\", hue='converted', data=data)\n",
    "plt.ylabel('Number of Occurrences', fontsize=12)\n",
    "plt.xlabel(\"email\", fontsize=12)\n",
    "plt.show()"
   ]
  },
  {
   "cell_type": "markdown",
   "metadata": {},
   "source": [
    "#### We can see that campaign B does slightly better from the plot."
   ]
  },
  {
   "cell_type": "markdown",
   "metadata": {},
   "source": [
    "#### Now, to try another approach, we can use the data in regression model to see which feature is more important, email type A or B."
   ]
  },
  {
   "cell_type": "code",
   "execution_count": 44,
   "metadata": {},
   "outputs": [
    {
     "name": "stdout",
     "output_type": "stream",
     "text": [
      "                            OLS Regression Results                            \n",
      "==============================================================================\n",
      "Dep. Variable:              converted   R-squared:                       0.000\n",
      "Model:                            OLS   Adj. R-squared:                 -0.001\n",
      "Method:                 Least Squares   F-statistic:                    0.4735\n",
      "Date:                Sat, 13 Jan 2018   Prob (F-statistic):              0.492\n",
      "Time:                        14:04:09   Log-Likelihood:                -210.26\n",
      "No. Observations:                1000   AIC:                             424.5\n",
      "Df Residuals:                     998   BIC:                             434.3\n",
      "Df Model:                           1                                         \n",
      "Covariance Type:            nonrobust                                         \n",
      "==============================================================================\n",
      "                 coef    std err          t      P>|t|      [0.025      0.975]\n",
      "------------------------------------------------------------------------------\n",
      "Intercept      0.0911      0.015      6.144      0.000       0.062       0.120\n",
      "email[T.1]     0.0132      0.019      0.688      0.492      -0.025       0.051\n",
      "==============================================================================\n",
      "Omnibus:                      535.040   Durbin-Watson:                   1.885\n",
      "Prob(Omnibus):                  0.000   Jarque-Bera (JB):             2329.311\n",
      "Skew:                           2.683   Prob(JB):                         0.00\n",
      "Kurtosis:                       8.206   Cond. No.                         2.90\n",
      "==============================================================================\n",
      "\n",
      "Warnings:\n",
      "[1] Standard Errors assume that the covariance matrix of the errors is correctly specified.\n"
     ]
    }
   ],
   "source": [
    "interX_lm = ols(\"converted ~ email \", data).fit()\n",
    "print(interX_lm.summary())"
   ]
  },
  {
   "cell_type": "markdown",
   "metadata": {},
   "source": [
    "#### From the summary of linear model, we can see, email[1] which is email type B, is a more important feature. "
   ]
  },
  {
   "cell_type": "code",
   "execution_count": 46,
   "metadata": {},
   "outputs": [
    {
     "data": {
      "text/plain": [
       "<matplotlib.axes._subplots.AxesSubplot at 0x7fac30c90a58>"
      ]
     },
     "execution_count": 46,
     "metadata": {},
     "output_type": "execute_result"
    },
    {
     "data": {
      "image/png": "[encoded data removed]",
      "text/plain": [
       "<matplotlib.figure.Figure at 0x7fac2b350588>"
      ]
     },
     "metadata": {},
     "output_type": "display_data"
    }
   ],
   "source": [
    "data[\"converted\"].plot(kind=\"density\") # density plot, for b(green) is more dispersed \n",
    "data[\"email\"].plot(kind=\"density\")"
   ]
  },
  {
   "cell_type": "code",
   "execution_count": 36,
   "metadata": {},
   "outputs": [
    {
     "name": "stdout",
     "output_type": "stream",
     "text": [
      "i [[369, 37], [532, 62]]\n",
      "[0.33738262943708697, 0.561343928069854]\n",
      "i [[369, 37], [532, 62]]\n"
     ]
    },
    {
     "data": {
      "text/html": [
       "<div>\n",
       "<style scoped>\n",
       "    .dataframe tbody tr th:only-of-type {\n",
       "        vertical-align: middle;\n",
       "    }\n",
       "\n",
       "    .dataframe tbody tr th {\n",
       "        vertical-align: top;\n",
       "    }\n",
       "\n",
       "    .dataframe thead th {\n",
       "        text-align: right;\n",
       "    }\n",
       "</style>\n",
       "<table border=\"1\" class=\"dataframe\">\n",
       "  <thead>\n",
       "    <tr style=\"text-align: right;\">\n",
       "      <th></th>\n",
       "      <th>0</th>\n",
       "      <th>1</th>\n",
       "    </tr>\n",
       "  </thead>\n",
       "  <tbody>\n",
       "    <tr>\n",
       "      <th>0</th>\n",
       "      <td>365.806</td>\n",
       "      <td>40.194</td>\n",
       "    </tr>\n",
       "    <tr>\n",
       "      <th>1</th>\n",
       "      <td>535.194</td>\n",
       "      <td>58.806</td>\n",
       "    </tr>\n",
       "  </tbody>\n",
       "</table>\n",
       "</div>"
      ],
      "text/plain": [
       "         0       1\n",
       "0  365.806  40.194\n",
       "1  535.194  58.806"
      ]
     },
     "execution_count": 36,
     "metadata": {},
     "output_type": "execute_result"
    }
   ],
   "source": [
    "import pandas as pd\n",
    "import scipy.stats as scs\n",
    "\n",
    "\n",
    "def categories(series):\n",
    "    return range(int(series.min()), int(series.max()) + 1)\n",
    "\n",
    "\n",
    "def chi_square_of_df_cols(df, col1, col2):\n",
    "    df_col1, df_col2 = df[col1], df[col2]\n",
    "\n",
    "    result = [[sum((df_col1 == cat1) & (df_col2 == cat2))\n",
    "            for cat2 in categories(df_col2)]\n",
    "            for cat1 in categories(df_col1)]\n",
    "    \n",
    "    print(\"i\", result)\n",
    "    return scs.chi2_contingency(result)\n",
    "\n",
    "\n",
    "#test_df = pd.read_csv('test_data_for_chi_square.csv')\n",
    "print(list(chi_square_of_df_cols(data, 'email', 'converted')[0:2]))\n",
    "pd.DataFrame(chi_square_of_df_cols(data, 'email', 'converted')[3])"
   ]
  },
  {
   "cell_type": "code",
   "execution_count": 37,
   "metadata": {},
   "outputs": [
    {
     "data": {
      "text/plain": [
       "1    62\n",
       "0    37\n",
       "Name: email, dtype: int64"
      ]
     },
     "execution_count": 37,
     "metadata": {},
     "output_type": "execute_result"
    }
   ],
   "source": [
    "data[\"email\"][data[\"converted\"] == 1].value_counts()\n",
    "\n",
    "# conversions B 62 over 594\n",
    "# conversions A 37 over 406\n",
    "#2    594\n",
    "#1    406"
   ]
  },
  {
   "cell_type": "code",
   "execution_count": 38,
   "metadata": {
    "collapsed": true
   },
   "outputs": [],
   "source": [
    "# Beta Distribution approach."
   ]
  },
  {
   "cell_type": "code",
   "execution_count": 39,
   "metadata": {},
   "outputs": [
    {
     "data": {
      "text/plain": [
       "0.74731094429250211"
      ]
     },
     "execution_count": 39,
     "metadata": {},
     "output_type": "execute_result"
    }
   ],
   "source": [
    "def probability_B_beats_A(a_A, b_A, a_B, b_B):\n",
    "    total = 0.0\n",
    "    for i in range(a_B):\n",
    "        total += exp(lbeta(a_A+i, b_B+b_A) - log(b_B+i) - lbeta(1+i, b_B) - lbeta(a_A, b_A))\n",
    "    return total\n",
    "probability_B_beats_A(38, 407 - 37, 63, 595 - 62)"
   ]
  },
  {
   "cell_type": "code",
   "execution_count": 227,
   "metadata": {},
   "outputs": [
    {
     "data": {
      "text/html": [
       "<div>\n",
       "<style scoped>\n",
       "    .dataframe tbody tr th:only-of-type {\n",
       "        vertical-align: middle;\n",
       "    }\n",
       "\n",
       "    .dataframe tbody tr th {\n",
       "        vertical-align: top;\n",
       "    }\n",
       "\n",
       "    .dataframe thead th {\n",
       "        text-align: right;\n",
       "    }\n",
       "</style>\n",
       "<table border=\"1\" class=\"dataframe\">\n",
       "  <thead>\n",
       "    <tr style=\"text-align: right;\">\n",
       "      <th></th>\n",
       "      <th>No</th>\n",
       "      <th>Yes</th>\n",
       "      <th>row_totals</th>\n",
       "    </tr>\n",
       "  </thead>\n",
       "  <tbody>\n",
       "    <tr>\n",
       "      <th>A</th>\n",
       "      <td>369</td>\n",
       "      <td>37</td>\n",
       "      <td>406</td>\n",
       "    </tr>\n",
       "    <tr>\n",
       "      <th>B</th>\n",
       "      <td>532</td>\n",
       "      <td>62</td>\n",
       "      <td>594</td>\n",
       "    </tr>\n",
       "    <tr>\n",
       "      <th>column_totals</th>\n",
       "      <td>901</td>\n",
       "      <td>99</td>\n",
       "      <td>1000</td>\n",
       "    </tr>\n",
       "  </tbody>\n",
       "</table>\n",
       "</div>"
      ],
      "text/plain": [
       "                No  Yes  row_totals\n",
       "A              369   37         406\n",
       "B              532   62         594\n",
       "column_totals  901   99        1000"
      ]
     },
     "execution_count": 227,
     "metadata": {},
     "output_type": "execute_result"
    }
   ],
   "source": [
    "import scipy.stats as stats\n",
    "e_tab = pd.crosstab(data.email, data.converted, margins = True)\n",
    "e_tab.columns = [\"No\",\"Yes\",\"row_totals\"]\n",
    "e_tab.index = [\"A\",\"B\",\"column_totals\"]\n",
    "obs = e_tab.ix[0:2,0:2]\n",
    "\n",
    "exp =  np.outer(e_tab[\"row_totals\"][0:2], e_tab.ix[\"column_totals\"][0:2]) / 1000\n",
    "exp = pd.DataFrame(exp)\n",
    "exp.columns = [\"No\",\"Yes\"]\n",
    "exp.index = [\"A\",\"B\"]\n",
    "e_tab ## Contigency table \n"
   ]
  },
  {
   "cell_type": "markdown",
   "metadata": {},
   "source": [
    "#### Email A had 406 occurences and 36 conversions and email B had 594 occurences and 62 conversions."
   ]
  },
  {
   "cell_type": "code",
   "execution_count": 42,
   "metadata": {},
   "outputs": [
    {
     "name": "stdout",
     "output_type": "stream",
     "text": [
      " [-----------------100%-----------------] 1000000 of 1000000 complete in 65.3 sec"
     ]
    },
    {
     "data": {
      "text/plain": [
       "<matplotlib.lines.Line2D at 0x7fac2b44d4a8>"
      ]
     },
     "execution_count": 42,
     "metadata": {},
     "output_type": "execute_result"
    },
    {
     "data": {
      "image/png": "[encoded data removed]",
      "text/plain": [
       "<matplotlib.figure.Figure at 0x7fac30bc4d68>"
      ]
     },
     "metadata": {},
     "output_type": "display_data"
    }
   ],
   "source": [
    "import pymc\n",
    "values_A = np.hstack(([0]*(406-37),[1]*37))\n",
    "values_B = np.hstack(([0]*(594-62),[1]*62))\n",
    "# set uniform priors \n",
    "p_A = pymc.Uniform('p_A', 0, 1)\n",
    "p_B = pymc.Uniform('p_B', 0, 1)\n",
    "\n",
    "#init delta distribution \n",
    "@pymc.deterministic\n",
    "def delta(p_A = p_A, p_B = p_B):\n",
    "    return p_B - p_A\n",
    "\n",
    "# Create the Bernoulli variables for the observation\n",
    "obs_A = pymc.Bernoulli('obs_A', p_A, value = values_A , observed = True)\n",
    "obs_B = pymc.Bernoulli('obs_B', p_B, value = values_B , observed = True)\n",
    "\n",
    "\n",
    "# Create the model and run the sampling\n",
    "model = pymc.Model([p_A, p_B, delta, values_A, values_B])\n",
    "mcmc = pymc.MCMC(model)\n",
    "# Sample 1,000,000 million points and throw out the first 500,000 since it takes time to converge\n",
    "mcmc.sample(1000000, 500000)\n",
    "delta_distribution = mcmc.trace('delta')[:]\n",
    "sns.kdeplot(delta_distribution, shade = True)\n",
    "plt.axvline(0.00, color = 'black')"
   ]
  },
  {
   "cell_type": "code",
   "execution_count": 43,
   "metadata": {},
   "outputs": [
    {
     "name": "stdout",
     "output_type": "stream",
     "text": [
      "Probability that email type A gets MORE sign-ups than type B: 0.255\n",
      "Probability that email type A gets LESS sign-ups than type B: 0.745\n"
     ]
    }
   ],
   "source": [
    "print(\"Probability that email type A gets MORE sign-ups than type B: %0.3f\" % (delta_distribution < 0).mean())\n",
    "print(\"Probability that email type A gets LESS sign-ups than type B: %0.3f\" % (delta_distribution > 0).mean())"
   ]
  },
  {
   "cell_type": "markdown",
   "metadata": {},
   "source": [
    "## Predictive Modeling "
   ]
  },
  {
   "cell_type": "code",
   "execution_count": 63,
   "metadata": {},
   "outputs": [],
   "source": [
    "data.drop(\"user_id\", axis=1,inplace=True)"
   ]
  },
  {
   "cell_type": "code",
   "execution_count": 216,
   "metadata": {
    "collapsed": true
   },
   "outputs": [],
   "source": [
    "from time import time\n",
    "from sklearn.model_selection import train_test_split\n",
    "\n",
    "X = data.iloc[:,2:]\n",
    "y = data[\"converted\"] ## initialize x and Y, drop id column \n",
    "X_train, X_test, y_train, y_test = train_test_split(X, y, random_state=42, stratify=y, test_size=0.30)"
   ]
  },
  {
   "cell_type": "code",
   "execution_count": 222,
   "metadata": {},
   "outputs": [],
   "source": [
    "from sklearn.metrics import mean_absolute_error\n",
    "from sklearn.metrics import make_scorer\n",
    "from sklearn.model_selection import GridSearchCV\n",
    "from sklearn.model_selection import learning_curve\n",
    "import xgboost as XGB\n",
    "\n",
    "def get_model(estimator, parameters, X_train, y_train, scoring):  \n",
    "    model = GridSearchCV(estimator, param_grid=parameters, scoring=scoring)\n",
    "    model.fit(X_train, y_train)\n",
    "    return model.best_estimator_\n",
    "\n",
    "scoring = make_scorer(mean_absolute_error, greater_is_better=False)\n",
    "\n",
    "xgb = XGB.XGBClassifier(seed=42, max_depth=5, objective='binary:logistic')\n",
    "parameters = {'learning_rate':[0.1,0.01], 'reg_alpha':[3.0], 'reg_lambda': [4.0], 'n_estimators':[100, 400,500]}\n",
    "clf_xgb1 = get_model(xgb, parameters, X_train, y_train, scoring)\n",
    "\n"
   ]
  },
  {
   "cell_type": "code",
   "execution_count": 223,
   "metadata": {},
   "outputs": [
    {
     "name": "stdout",
     "output_type": "stream",
     "text": [
      "             precision    recall  f1-score   support\n",
      "\n",
      "          0       0.95      1.00      0.97       270\n",
      "          1       0.94      0.53      0.68        30\n",
      "\n",
      "avg / total       0.95      0.95      0.94       300\n",
      "\n",
      "XGBClassifier(base_score=0.5, booster='gbtree', colsample_bylevel=1,\n",
      "       colsample_bytree=1, gamma=0, learning_rate=0.1, max_delta_step=0,\n",
      "       max_depth=5, min_child_weight=1, missing=None, n_estimators=400,\n",
      "       n_jobs=1, nthread=None, objective='binary:logistic', random_state=0,\n",
      "       reg_alpha=3.0, reg_lambda=4.0, scale_pos_weight=1, seed=42,\n",
      "       silent=True, subsample=1)\n"
     ]
    }
   ],
   "source": [
    "from sklearn.metrics import classification_report\n",
    "print (classification_report(y_test, clf_xgb1.predict(X_test)))\n",
    "print (clf_xgb1)\n",
    "# F1-Score 0.68 "
   ]
  },
  {
   "cell_type": "code",
   "execution_count": 224,
   "metadata": {},
   "outputs": [
    {
     "data": {
      "image/png": "[encoded data removed]",
      "text/plain": [
       "<matplotlib.figure.Figure at 0x7fac03e46c88>"
      ]
     },
     "metadata": {},
     "output_type": "display_data"
    }
   ],
   "source": [
    "from xgboost import plot_importance\n",
    "fig, ax = plt.subplots(figsize=(10,14))\n",
    "plot_importance(clf_xgb1, height=0.8, ax=ax)\n",
    "plt.show()"
   ]
  },
  {
   "cell_type": "code",
   "execution_count": 213,
   "metadata": {},
   "outputs": [],
   "source": [
    "from sklearn.metrics import make_scorer, accuracy_score , mean_absolute_error \n",
    "from sklearn.model_selection import learning_curve, GridSearchCV, cross_val_score\n",
    "from sklearn.ensemble import RandomForestClassifier\n",
    "from sklearn import metrics\n",
    "\n",
    "def get_model(estimator, parameters, X_train, y_train, scoring):  \n",
    "    model = GridSearchCV(estimator, param_grid=parameters, scoring=scoring)\n",
    "    model.fit(X_train, y_train)\n",
    "    return model.best_estimator_\n",
    "\n",
    "parameters = {\"max_depth\": [2,3,4,5]\n",
    "            ,\"min_samples_split\" :[2,3,4]\n",
    "            ,\"n_estimators\" : [10, 100, 500]\n",
    "            ,\"min_samples_leaf\": [3,4,5]\n",
    "            ,\"max_features\": (4,5,6,\"sqrt\")\n",
    "            ,\"criterion\":['gini']}\n",
    "\n",
    "rf_regr = RandomForestClassifier()\n",
    "rclf = GridSearchCV(rf_regr,parameters, n_jobs = 6, cv = 5)\n",
    "rclf = rclf.fit(X_train,y_train)"
   ]
  },
  {
   "cell_type": "code",
   "execution_count": 214,
   "metadata": {},
   "outputs": [
    {
     "name": "stdout",
     "output_type": "stream",
     "text": [
      "             precision    recall  f1-score   support\n",
      "\n",
      "          0       0.94      1.00      0.97       297\n",
      "          1       1.00      0.45      0.62        33\n",
      "\n",
      "avg / total       0.95      0.95      0.94       330\n",
      "\n",
      "[[297   0]\n",
      " [ 18  15]]\n"
     ]
    }
   ],
   "source": [
    "# make predictions\n",
    "y_p = rclf.predict(X_test)\n",
    "# summarize the fit of the model\n",
    "print(metrics.classification_report(y_test, y_p))\n",
    "print(metrics.confusion_matrix(y_test, y_p))"
   ]
  },
  {
   "cell_type": "code",
   "execution_count": 229,
   "metadata": {},
   "outputs": [
    {
     "data": {
      "image/png": "[encoded data removed]",
      "text/plain": [
       "<matplotlib.figure.Figure at 0x7fac9832c828>"
      ]
     },
     "metadata": {},
     "output_type": "display_data"
    }
   ],
   "source": [
    "n_estimators = 100\n",
    "forest = RandomForestClassifier(warm_start=True, oob_score=True)\n",
    "kvs = {}\n",
    "for i in range(1, 16):\n",
    "    n_estimators = n_estimators + i*30\n",
    "    forest.set_params(n_estimators=i)\n",
    "    forest.fit(X, y)\n",
    "    kvs[i] = forest.oob_score_\n",
    "lists = sorted(kvs.items()) # sorted by key, return a list of tuples\n",
    "a, b = zip(*lists) # unpack a list of pairs into two tuples\n",
    "a = [i * 50 for i in a]\n",
    "plt.plot(a, b)\n",
    "plt.show() ## around 650 is the beest number of trees"
   ]
  },
  {
   "cell_type": "code",
   "execution_count": 170,
   "metadata": {},
   "outputs": [
    {
     "name": "stdout",
     "output_type": "stream",
     "text": [
      "             precision    recall  f1-score   support\n",
      "\n",
      "          0       0.95      0.99      0.97       270\n",
      "          1       0.89      0.57      0.69        30\n",
      "\n",
      "avg / total       0.95      0.95      0.94       300\n",
      "\n",
      "[[268   2]\n",
      " [ 13  17]]\n"
     ]
    }
   ],
   "source": [
    "from sklearn.linear_model import LogisticRegression\n",
    "\n",
    "lg = LogisticRegression()\n",
    "lg.fit(X_train, y_train)\n",
    "\n",
    "y_pred = lg.predict(X_test)\n",
    "print(metrics.classification_report(y_test, y_pred))\n",
    "print(metrics.confusion_matrix(y_test, y_pred))\n",
    "\n",
    "#0.94      0.53      0.68        30\n",
    "# 1-True cases F1 score is much better. "
   ]
  },
  {
   "cell_type": "code",
   "execution_count": 178,
   "metadata": {},
   "outputs": [
    {
     "data": {
      "image/png": "[encoded data removed]",
      "text/plain": [
       "<matplotlib.figure.Figure at 0x7fac33ad3128>"
      ]
     },
     "metadata": {},
     "output_type": "display_data"
    }
   ],
   "source": [
    "feature_importance = abs(lg.coef_[0])\n",
    "feature_importance = 100.0 * (feature_importance / feature_importance.max())\n",
    "sorted_idx = np.argsort(feature_importance)\n",
    "pos = np.arange(sorted_idx.shape[0]) + .5\n",
    "\n",
    "featfig = plt.figure()\n",
    "featfig.figsize=(12,16)\n",
    "featax = featfig.add_subplot(1, 1, 1)\n",
    "featax.barh(pos, feature_importance[sorted_idx], align='center')\n",
    "featax.set_yticks(pos)\n",
    "featax.set_yticklabels(np.array(X.columns)[sorted_idx], fontsize=8)\n",
    "featax.set_xlabel('Relative Feature Importance')\n",
    "\n",
    "plt.tight_layout()   \n",
    "plt.show()\n",
    "\n"
   ]
  },
  {
   "cell_type": "code",
   "execution_count": 179,
   "metadata": {},
   "outputs": [
    {
     "data": {
      "text/plain": [
       "array(['x9', 'x2', 'x10', 'x7', 'x8', 'x3', 'x1', 'x5', 'x4', 'x6'], dtype=object)"
      ]
     },
     "execution_count": 179,
     "metadata": {},
     "output_type": "execute_result"
    }
   ],
   "source": [
    "np.array(X.columns)[sorted_idx]"
   ]
  },
  {
   "cell_type": "code",
   "execution_count": 195,
   "metadata": {},
   "outputs": [
    {
     "data": {
      "text/plain": [
       "LogisticRegression(C=1.0, class_weight=None, dual=False, fit_intercept=True,\n",
       "          intercept_scaling=1, max_iter=200, multi_class='ovr', n_jobs=1,\n",
       "          penalty='l2', random_state=None, solver='liblinear', tol=0.0001,\n",
       "          verbose=0, warm_start=False)"
      ]
     },
     "execution_count": 195,
     "metadata": {},
     "output_type": "execute_result"
    }
   ],
   "source": [
    "from sklearn.preprocessing import PolynomialFeatures, scale \n",
    "\n",
    "Xs_train = scale(X_train)\n",
    "Xs_test = scale(X_test)\n",
    "\n",
    "from sklearn.preprocessing import PolynomialFeatures\n",
    "poly = PolynomialFeatures(interaction_only = True)\n",
    "poly_xtr =poly.fit_transform(Xs_train)\n",
    "poly_xts =poly.fit_transform(Xs_test)\n",
    "\n",
    "classifier = LogisticRegression(penalty ='l2', max_iter = 200)\n",
    "classifier.fit(poly_xtr, y_train)\n",
    "\n"
   ]
  },
  {
   "cell_type": "code",
   "execution_count": 197,
   "metadata": {},
   "outputs": [
    {
     "name": "stdout",
     "output_type": "stream",
     "text": [
      "             precision    recall  f1-score   support\n",
      "\n",
      "          0       0.95      0.98      0.97       270\n",
      "          1       0.74      0.57      0.64        30\n",
      "\n",
      "avg / total       0.93      0.94      0.93       300\n",
      "\n",
      "[[264   6]\n",
      " [ 13  17]]\n"
     ]
    }
   ],
   "source": [
    "y_pred1 = classifier.predict(poly_xts)\n",
    "print(metrics.classification_report(y_test, y_pred1))\n",
    "print(metrics.confusion_matrix(y_test, y_pred1))"
   ]
  },
  {
   "cell_type": "code",
   "execution_count": 200,
   "metadata": {},
   "outputs": [
    {
     "data": {
      "image/png": "[encoded data removed]",
      "text/plain": [
       "<matplotlib.figure.Figure at 0x7fac2b455a20>"
      ]
     },
     "metadata": {},
     "output_type": "display_data"
    }
   ],
   "source": [
    "from xgboost import plot_importance\n",
    "fig, ax = plt.subplots(figsize=(10,14))\n",
    "plot_importance(clf_xgb1, height=0.8, ax=ax)\n",
    "plt.show()"
   ]
  },
  {
   "cell_type": "markdown",
   "metadata": {},
   "source": [
    "#### references \n",
    "#### http://www.evanmiller.org/bayesian-ab-testing.html\n",
    "#### https://classroom.udacity.com/courses/ud257/lessons/4018018619/concepts/40043986890923"
   ]
  }
 ],
 "metadata": {
  "kernelspec": {
   "display_name": "Python 3",
   "language": "python",
   "name": "python3"
  },
  "language_info": {
   "codemirror_mode": {
    "name": "ipython",
    "version": 3
   },
   "file_extension": ".py",
   "mimetype": "text/x-python",
   "name": "python",
   "nbconvert_exporter": "python",
   "pygments_lexer": "ipython3",
   "version": "3.6.3"
  }
 },
 "nbformat": 4,
 "nbformat_minor": 2
}
