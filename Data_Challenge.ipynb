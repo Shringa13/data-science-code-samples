{
 "cells": [
  {
   "cell_type": "code",
   "execution_count": 1,
   "metadata": {},
   "outputs": [],
   "source": [
    "import pandas as pd\n",
    "import numpy as np \n",
    "from functools import reduce\n",
    "from sklearn.dummy import DummyRegressor\n",
    "from sklearn import linear_model\n",
    "from sklearn.model_selection import cross_val_score\n",
    "from sklearn.metrics import mean_absolute_error\n",
    "from xgboost import XGBRegressor\n",
    "from sklearn.metrics import r2_score"
   ]
  },
  {
   "cell_type": "markdown",
   "metadata": {},
   "source": [
    "### 2.1 Import data from CSV into pandas dataframe"
   ]
  },
  {
   "cell_type": "code",
   "execution_count": 2,
   "metadata": {},
   "outputs": [],
   "source": [
    "pdata = pd.read_csv(\"./Programming_Part1_TTI_Challenge.csv\", sep='\\t')"
   ]
  },
  {
   "cell_type": "code",
   "execution_count": 3,
   "metadata": {},
   "outputs": [],
   "source": [
    "stats = pd.DataFrame(pdata.iloc[:,2:].describe())## gather stastics for last two columns\n",
    "gm = lambda n: reduce(lambda x,y: x*y, n) ** (1.0 / len(n)) ## Function to calculate geometric mean\n",
    "stats.loc[8] = [gm(pdata.X) , gm(pdata.Y)]"
   ]
  },
  {
   "cell_type": "code",
   "execution_count": 4,
   "metadata": {},
   "outputs": [
    {
     "data": {
      "text/html": [
       "<div>\n",
       "<style scoped>\n",
       "    .dataframe tbody tr th:only-of-type {\n",
       "        vertical-align: middle;\n",
       "    }\n",
       "\n",
       "    .dataframe tbody tr th {\n",
       "        vertical-align: top;\n",
       "    }\n",
       "\n",
       "    .dataframe thead th {\n",
       "        text-align: right;\n",
       "    }\n",
       "</style>\n",
       "<table border=\"1\" class=\"dataframe\">\n",
       "  <thead>\n",
       "    <tr style=\"text-align: right;\">\n",
       "      <th></th>\n",
       "      <th>Class</th>\n",
       "      <th>PartNo</th>\n",
       "      <th>X</th>\n",
       "      <th>Y</th>\n",
       "    </tr>\n",
       "  </thead>\n",
       "  <tbody>\n",
       "    <tr>\n",
       "      <th>0</th>\n",
       "      <td>AAA</td>\n",
       "      <td>X135</td>\n",
       "      <td>0.21</td>\n",
       "      <td>1.124</td>\n",
       "    </tr>\n",
       "    <tr>\n",
       "      <th>1</th>\n",
       "      <td>AAA</td>\n",
       "      <td>X126</td>\n",
       "      <td>0.21</td>\n",
       "      <td>1.179</td>\n",
       "    </tr>\n",
       "    <tr>\n",
       "      <th>2</th>\n",
       "      <td>EBHA</td>\n",
       "      <td>X195</td>\n",
       "      <td>0.32</td>\n",
       "      <td>1.191</td>\n",
       "    </tr>\n",
       "    <tr>\n",
       "      <th>3</th>\n",
       "      <td>EBHA</td>\n",
       "      <td>X194</td>\n",
       "      <td>0.82</td>\n",
       "      <td>1.249</td>\n",
       "    </tr>\n",
       "    <tr>\n",
       "      <th>4</th>\n",
       "      <td>AAA</td>\n",
       "      <td>X139</td>\n",
       "      <td>0.81</td>\n",
       "      <td>1.255</td>\n",
       "    </tr>\n",
       "  </tbody>\n",
       "</table>\n",
       "</div>"
      ],
      "text/plain": [
       "  Class PartNo     X      Y\n",
       "0   AAA   X135  0.21  1.124\n",
       "1   AAA   X126  0.21  1.179\n",
       "2  EBHA   X195  0.32  1.191\n",
       "3  EBHA   X194  0.82  1.249\n",
       "4   AAA   X139  0.81  1.255"
      ]
     },
     "execution_count": 4,
     "metadata": {},
     "output_type": "execute_result"
    }
   ],
   "source": [
    "pdata.head()"
   ]
  },
  {
   "cell_type": "markdown",
   "metadata": {},
   "source": [
    "### 2.2 Print all data stastics in one table "
   ]
  },
  {
   "cell_type": "code",
   "execution_count": 5,
   "metadata": {},
   "outputs": [
    {
     "data": {
      "text/html": [
       "<div>\n",
       "<style scoped>\n",
       "    .dataframe tbody tr th:only-of-type {\n",
       "        vertical-align: middle;\n",
       "    }\n",
       "\n",
       "    .dataframe tbody tr th {\n",
       "        vertical-align: top;\n",
       "    }\n",
       "\n",
       "    .dataframe thead th {\n",
       "        text-align: right;\n",
       "    }\n",
       "</style>\n",
       "<table border=\"1\" class=\"dataframe\">\n",
       "  <thead>\n",
       "    <tr style=\"text-align: right;\">\n",
       "      <th></th>\n",
       "      <th>X</th>\n",
       "      <th>Y</th>\n",
       "    </tr>\n",
       "  </thead>\n",
       "  <tbody>\n",
       "    <tr>\n",
       "      <th>count</th>\n",
       "      <td>100.000000</td>\n",
       "      <td>100.000000</td>\n",
       "    </tr>\n",
       "    <tr>\n",
       "      <th>mean</th>\n",
       "      <td>5.499100</td>\n",
       "      <td>3.525130</td>\n",
       "    </tr>\n",
       "    <tr>\n",
       "      <th>std</th>\n",
       "      <td>2.672921</td>\n",
       "      <td>1.734591</td>\n",
       "    </tr>\n",
       "    <tr>\n",
       "      <th>min</th>\n",
       "      <td>0.210000</td>\n",
       "      <td>1.124000</td>\n",
       "    </tr>\n",
       "    <tr>\n",
       "      <th>25%</th>\n",
       "      <td>3.515000</td>\n",
       "      <td>2.086250</td>\n",
       "    </tr>\n",
       "    <tr>\n",
       "      <th>50%</th>\n",
       "      <td>5.310000</td>\n",
       "      <td>2.974000</td>\n",
       "    </tr>\n",
       "    <tr>\n",
       "      <th>75%</th>\n",
       "      <td>7.810000</td>\n",
       "      <td>4.919500</td>\n",
       "    </tr>\n",
       "    <tr>\n",
       "      <th>max</th>\n",
       "      <td>10.020000</td>\n",
       "      <td>7.498000</td>\n",
       "    </tr>\n",
       "    <tr>\n",
       "      <th>geo.mean</th>\n",
       "      <td>4.495324</td>\n",
       "      <td>3.108310</td>\n",
       "    </tr>\n",
       "  </tbody>\n",
       "</table>\n",
       "</div>"
      ],
      "text/plain": [
       "                   X           Y\n",
       "count     100.000000  100.000000\n",
       "mean        5.499100    3.525130\n",
       "std         2.672921    1.734591\n",
       "min         0.210000    1.124000\n",
       "25%         3.515000    2.086250\n",
       "50%         5.310000    2.974000\n",
       "75%         7.810000    4.919500\n",
       "max        10.020000    7.498000\n",
       "geo.mean    4.495324    3.108310"
      ]
     },
     "execution_count": 5,
     "metadata": {},
     "output_type": "execute_result"
    }
   ],
   "source": [
    "stats.rename(index={8: 'geo.mean'}) ## Last row for geometric mean "
   ]
  },
  {
   "cell_type": "code",
   "execution_count": 31,
   "metadata": {},
   "outputs": [
    {
     "data": {
      "image/png": "[encoded data removed]",
      "text/plain": [
       "<matplotlib.figure.Figure at 0x7f3b2eb16470>"
      ]
     },
     "metadata": {},
     "output_type": "display_data"
    }
   ],
   "source": [
    "import matplotlib.pyplot as plt\n",
    "import seaborn as sns \n",
    "from scipy import stats #libraries for plotting \n",
    "from scipy import signal\n",
    "\n",
    "\n",
    "%matplotlib inline\n",
    "plt.figure(figsize=(14,10)) #set size\n",
    "sns.distplot((pdata.X),color=\"red\", label=\"X\" ,kde=False, fit=stats.gamma) #try to approximate a distribution over data with fit()\n",
    "sns.distplot((pdata.Y),color=\"green\",label=\"Y\", kde=False, fit=stats.gamma)\n",
    "\n",
    "plt.ylabel('Y', fontsize=12)\n",
    "plt.xlabel(\"X\", fontsize=12)\n",
    "plt.show()"
   ]
  },
  {
   "cell_type": "code",
   "execution_count": 34,
   "metadata": {
    "scrolled": true
   },
   "outputs": [
    {
     "data": {
      "text/plain": [
       "<matplotlib.figure.Figure at 0x7f3b2cd1b668>"
      ]
     },
     "metadata": {},
     "output_type": "display_data"
    },
    {
     "data": {
      "image/png": "[encoded data removed]",
      "text/plain": [
       "<matplotlib.figure.Figure at 0x7f3b2ce35358>"
      ]
     },
     "metadata": {},
     "output_type": "display_data"
    }
   ],
   "source": [
    "%matplotlib inline\n",
    "plt.figure(figsize=(14,10)) #set size\n",
    "g = sns.jointplot(x=\"X\", y=\"Y\", data=pdata, kind=\"kde\"); ## use KDE method to get more idea about the data\n",
    "g.plot_joint(plt.scatter, c=\"w\", s=30, linewidth=.5, marker=\"*\") ## plot a line in data with all the data points\n",
    "g.ax_joint.collections[0].set_alpha(0)\n",
    "\n",
    "plt.ylabel('Y', fontsize=12)\n",
    "plt.xlabel(\"X\", fontsize=12)\n",
    "plt.show()"
   ]
  },
  {
   "cell_type": "markdown",
   "metadata": {},
   "source": [
    "### From the plots we can see that the two features are highly correlated and form a clear function curve. "
   ]
  },
  {
   "cell_type": "markdown",
   "metadata": {},
   "source": [
    "### 2.3 To write out data to a table, it can be done in many ways but for this exercise I am sqlite db since it is a lightweight and minimal to setup. The connection part can be replace with any database details/jdbc connections, such as Oracle or MySQL.\n",
    "\n",
    "### The code also demonstrate that we can convert the data into a RDBMS table and fetch it back."
   ]
  },
  {
   "cell_type": "code",
   "execution_count": 8,
   "metadata": {},
   "outputs": [
    {
     "name": "stdout",
     "output_type": "stream",
     "text": [
      "[(0, 'AAA', 'X135', 0.21, 1.124), (1, 'AAA', 'X126', 0.21, 1.179), (2, 'EBHA', 'X195', 0.32, 1.1909999999999998), (3, 'EBHA', 'X194', 0.82, 1.249), (4, 'AAA', 'X139', 0.81, 1.255)]\n"
     ]
    }
   ],
   "source": [
    "import sqlite3\n",
    "conn = sqlite3.connect(\"new.db\")\n",
    "pdata.to_sql(\"p1\", conn, if_exists=\"replace\")\n",
    "cur = conn.cursor()\n",
    "cur.execute(\"select * from p1 limit 5;\")\n",
    "results = cur.fetchall()\n",
    "print(results)\n",
    "conn.commit()\n",
    "conn.close()"
   ]
  },
  {
   "cell_type": "markdown",
   "metadata": {},
   "source": [
    "#### We can convert the Class feature to a categorical one. "
   ]
  },
  {
   "cell_type": "code",
   "execution_count": 9,
   "metadata": {},
   "outputs": [
    {
     "data": {
      "text/plain": [
       "EBHA    41\n",
       "AAA     38\n",
       "EBGB    21\n",
       "Name: Class, dtype: int64"
      ]
     },
     "execution_count": 9,
     "metadata": {},
     "output_type": "execute_result"
    }
   ],
   "source": [
    "pdata.nunique() #find number of unique categories\n",
    "pdata.Class.value_counts()"
   ]
  },
  {
   "cell_type": "code",
   "execution_count": 10,
   "metadata": {},
   "outputs": [],
   "source": [
    "pdata.Class = pdata[\"Class\"].astype(\"category\")"
   ]
  },
  {
   "cell_type": "code",
   "execution_count": 11,
   "metadata": {},
   "outputs": [],
   "source": [
    "X_cat = pd.get_dummies(pdata , columns=[\"Class\"])\n",
    "X_cat.drop('Y', 1,inplace=True)"
   ]
  },
  {
   "cell_type": "code",
   "execution_count": 12,
   "metadata": {},
   "outputs": [],
   "source": [
    "from sklearn.model_selection import train_test_split\n",
    "X_cat.set_index(\"PartNo\", inplace=True)\n",
    "X_train, X_test, y_train, y_test = train_test_split(X_cat, pdata[\"Y\"], test_size=0.33, random_state=2111)"
   ]
  },
  {
   "cell_type": "markdown",
   "metadata": {},
   "source": [
    "### 2.4  Predictive Model \n",
    "### Establish a baseline with a dummy regressor, so we know that we are doing better than predicting mean. "
   ]
  },
  {
   "cell_type": "code",
   "execution_count": 13,
   "metadata": {},
   "outputs": [
    {
     "name": "stdout",
     "output_type": "stream",
     "text": [
      "1.63321076436\n"
     ]
    }
   ],
   "source": [
    "model = DummyRegressor(strategy='mean')\n",
    "model.fit(X_train, y_train)\n",
    "Y_pred=model.predict(X_test)\n",
    "print(mean_absolute_error(y_test,Y_pred))"
   ]
  },
  {
   "cell_type": "code",
   "execution_count": 14,
   "metadata": {},
   "outputs": [
    {
     "data": {
      "text/html": [
       "<div>\n",
       "<style scoped>\n",
       "    .dataframe tbody tr th:only-of-type {\n",
       "        vertical-align: middle;\n",
       "    }\n",
       "\n",
       "    .dataframe tbody tr th {\n",
       "        vertical-align: top;\n",
       "    }\n",
       "\n",
       "    .dataframe thead th {\n",
       "        text-align: right;\n",
       "    }\n",
       "</style>\n",
       "<table border=\"1\" class=\"dataframe\">\n",
       "  <thead>\n",
       "    <tr style=\"text-align: right;\">\n",
       "      <th></th>\n",
       "      <th>X</th>\n",
       "      <th>Class_AAA</th>\n",
       "      <th>Class_EBGB</th>\n",
       "      <th>Class_EBHA</th>\n",
       "    </tr>\n",
       "    <tr>\n",
       "      <th>PartNo</th>\n",
       "      <th></th>\n",
       "      <th></th>\n",
       "      <th></th>\n",
       "      <th></th>\n",
       "    </tr>\n",
       "  </thead>\n",
       "  <tbody>\n",
       "    <tr>\n",
       "      <th>X170</th>\n",
       "      <td>5.03</td>\n",
       "      <td>0</td>\n",
       "      <td>0</td>\n",
       "      <td>1</td>\n",
       "    </tr>\n",
       "    <tr>\n",
       "      <th>X107</th>\n",
       "      <td>4.81</td>\n",
       "      <td>0</td>\n",
       "      <td>1</td>\n",
       "      <td>0</td>\n",
       "    </tr>\n",
       "    <tr>\n",
       "      <th>X157</th>\n",
       "      <td>3.50</td>\n",
       "      <td>1</td>\n",
       "      <td>0</td>\n",
       "      <td>0</td>\n",
       "    </tr>\n",
       "    <tr>\n",
       "      <th>X162</th>\n",
       "      <td>7.81</td>\n",
       "      <td>0</td>\n",
       "      <td>0</td>\n",
       "      <td>1</td>\n",
       "    </tr>\n",
       "    <tr>\n",
       "      <th>X112</th>\n",
       "      <td>9.51</td>\n",
       "      <td>0</td>\n",
       "      <td>1</td>\n",
       "      <td>0</td>\n",
       "    </tr>\n",
       "  </tbody>\n",
       "</table>\n",
       "</div>"
      ],
      "text/plain": [
       "           X  Class_AAA  Class_EBGB  Class_EBHA\n",
       "PartNo                                         \n",
       "X170    5.03          0           0           1\n",
       "X107    4.81          0           1           0\n",
       "X157    3.50          1           0           0\n",
       "X162    7.81          0           0           1\n",
       "X112    9.51          0           1           0"
      ]
     },
     "execution_count": 14,
     "metadata": {},
     "output_type": "execute_result"
    }
   ],
   "source": [
    "X_train.head()"
   ]
  },
  {
   "cell_type": "code",
   "execution_count": 15,
   "metadata": {},
   "outputs": [
    {
     "name": "stdout",
     "output_type": "stream",
     "text": [
      "MAE 0.412411786194\n",
      "R2_score 0.924114425336\n"
     ]
    }
   ],
   "source": [
    "model = linear_model.LinearRegression()\n",
    "model.fit(X_train, y_train)\n",
    "\n",
    "Y_pred=model.predict(X_test)\n",
    "print(\"MAE\", mean_absolute_error(y_test,Y_pred))\n",
    "print(\"R2_score\", r2_score(y_test,Y_pred, multioutput='variance_weighted'))"
   ]
  },
  {
   "cell_type": "markdown",
   "metadata": {},
   "source": [
    "### From plots we could see that the scatterplot has a very clear function curve, this can be leveraged by using a gradient based learner. "
   ]
  },
  {
   "cell_type": "code",
   "execution_count": 16,
   "metadata": {},
   "outputs": [
    {
     "name": "stdout",
     "output_type": "stream",
     "text": [
      "MAE 0.0478280763597\n",
      "R2_score 0.998826076235\n"
     ]
    }
   ],
   "source": [
    "from sklearn.metrics import mean_squared_error\n",
    "from sklearn.ensemble import GradientBoostingRegressor\n",
    "\n",
    "est = GradientBoostingRegressor(n_estimators=160, learning_rate=0.09,\n",
    "    max_depth=1, random_state=0, loss='ls').fit(X_train, y_train)\n",
    "print(\"MAE\", mean_absolute_error(y_test, est.predict(X_test)))\n",
    "print(\"R2_score\",r2_score(y_test,est.predict(X_test), multioutput='variance_weighted'))"
   ]
  },
  {
   "cell_type": "code",
   "execution_count": 17,
   "metadata": {},
   "outputs": [
    {
     "name": "stdout",
     "output_type": "stream",
     "text": [
      "MAE 0.0510166399985\n",
      "R2_score 0.998674836216\n"
     ]
    }
   ],
   "source": [
    "model = XGBRegressor(n_estimators=160,seed=0, learning_rate=0.09)\n",
    "model.fit(X_train, y_train)\n",
    "Y_pred=model.predict(X_test)\n",
    "print(\"MAE\", mean_absolute_error(y_test,Y_pred))\n",
    "print(\"R2_score\", r2_score(y_test,Y_pred, multioutput='variance_weighted'))"
   ]
  },
  {
   "cell_type": "markdown",
   "metadata": {},
   "source": [
    "### 2.5 Gradient based methods have resulted in much better performance with near perfect R2 score and low mean absolute error. The reason that simple linear regression did not work so well here could be that the simple linear model could not generalize/model the curve function so well. Where as, since the data curve represented a differentiable function at which gradient models excel. \n",
    "\n",
    "### The low error means that the predictions by this model would only be off by a 0.05 of the actual values. High R2 square suggests that 99.8% of the data can be explained by the model\n",
    "\n",
    "\n",
    "### Also, X is the most important feature for predicting the target value. While part number has a little contribution as well."
   ]
  },
  {
   "cell_type": "code",
   "execution_count": 18,
   "metadata": {},
   "outputs": [
    {
     "data": {
      "image/png": "[encoded data removed]",
      "text/plain": [
       "<matplotlib.figure.Figure at 0x7f3b2de2ec50>"
      ]
     },
     "metadata": {},
     "output_type": "display_data"
    }
   ],
   "source": [
    "from xgboost import plot_importance \n",
    "fig, ax = plt.subplots(figsize=(8,6))\n",
    "plot_importance(model, height=0.8, ax=ax)\n",
    "plt.show()"
   ]
  },
  {
   "cell_type": "markdown",
   "metadata": {},
   "source": [
    "# 3 SQL Questions \n",
    "#### Write the SQL  statements to: \n",
    "1. Display Full_MFG_Name in Table B without the MFG Code ( Example: ‘Amphenol’) \n",
    "2. Calculate Total Revenue from Table B \n",
    "3. Display the top 10 Products from Table B which made highest profit \n",
    "4. Display total cost, total Price and Margins grouped by Parent_MFG in table A \n",
    "5. Display the highest selling product and the second highest selling product  \n",
    "6. Display the Total Cost and Total Revenue based on Type from Table C and order it in a descending order \n",
    "7. Find which Quarter sold highest number of products \n",
    "8. Find which quarter made the highest sale in ‘AUTOMOTIVE’ category In the last year \n",
    "9. Find the Products in table C that haven’t sold "
   ]
  },
  {
   "cell_type": "code",
   "execution_count": 272,
   "metadata": {},
   "outputs": [],
   "source": [
    "def get_dtype(s):\n",
    "    import re    \n",
    "    if re.match(\"^\\d+?\\.\\d+?$\", s) is None:\n",
    "        if s.isdigit():\n",
    "            return \"int\"\n",
    "        else:\n",
    "            return \"string\"\n",
    "    return \"float\"\n",
    "\n",
    "catFeatures = []\n",
    "numFeatures = []\n",
    "\n",
    "def process_dtypes(df):\n",
    "    for col,x in df.iloc[1,:].iteritems():\n",
    "        t = get_dtype(str(x).strip())\n",
    "        if(t == \"int\" or t == \"float\" ):\n",
    "            numFeatures.append(col)\n",
    "            if t == \"int\":\n",
    "                df[col] = df[col].astype(int)\n",
    "            else:\n",
    "                df[col] = df[col].astype(float)\n",
    "        else:\n",
    "            catFeatures.append(col)\n",
    "            df[col] = df[col].astype(str)\n",
    "    return df    \n",
    "\n",
    "def file_to_table(fn, cols, conn=conn): #helper function to read data from a file and return a dataframe from it.\n",
    "    table = []\n",
    "    tname = fn.split(\".\")[2].strip(\"/\")\n",
    "    f = open(fn, 'r')\n",
    "    for i in f:\n",
    "        table.append(i.strip())\n",
    "    table = np.reshape(table, [-1,cols])\n",
    "    columns = table[0,:]\n",
    "    data = table[1:,:]\n",
    "    temp = pd.DataFrame(data, columns=columns)\n",
    "    process_dtypes(temp)\n",
    "    temp.to_sql(tname, conn, if_exists=\"replace\")\n",
    "    conn.commit()\n",
    "    f.close()\n",
    "    \n",
    "    return temp"
   ]
  },
  {
   "cell_type": "code",
   "execution_count": 273,
   "metadata": {},
   "outputs": [],
   "source": [
    "s = \"../MFG.txt\"\n",
    "conn = sqlite3.connect(\"new.db\")\n"
   ]
  },
  {
   "cell_type": "code",
   "execution_count": 274,
   "metadata": {},
   "outputs": [],
   "source": [
    "MFG = file_to_table('../MFG.txt',4)\n",
    "products = file_to_table('../product_table.txt',5)\n",
    "sales = file_to_table('../sales_table.txt',7)\n"
   ]
  },
  {
   "cell_type": "markdown",
   "metadata": {},
   "source": [
    "#### 1. Display Full_MFG_Name in Table B without the MFG Code ( Example: ‘Amphenol’) \n",
    "``` mysql\n",
    " select RIGHT(a.Full_MFG_Name, LENGTH(a.Full_MFG_Name) -6) as Name , b.* from MFG a, sales_table b where a.MFG_Code = b.MFG_code;\n",
    " \n",
    "```"
   ]
  },
  {
   "cell_type": "markdown",
   "metadata": {},
   "source": [
    "#### 2. Calculate Total Revenue from Table B \n",
    "``` mysql\n",
    " select sum(quantity * unit_price) as revenue from sales_table;\n",
    " 22595.3201681077\n",
    "```\n",
    "\n",
    "#### Total Profit  \n",
    "``` mysql\n",
    "select sum((quantity * unit_price) - (quantity * unit_cost)) as revenue from sales_table order by revenue desc LIMIT 10;\n",
    "4281.87903094292\n",
    "```"
   ]
  },
  {
   "cell_type": "markdown",
   "metadata": {},
   "source": [
    "#### 3. Display the top 10 Products from Table B which made highest profit\n",
    "\n",
    "``` mysql\n",
    " select ((quantity * unit_price) - (quantity * unit_cost)) as revenue from sales_table order by revenue desc LIMIT 10;\n",
    "\n",
    ">  revenue\n",
    "544.000291824341\n",
    "540.999984741211\n",
    "540.999984741211\n",
    "524.800281524658\n",
    "331.020011901855\n",
    "283.799991607666\n",
    "250\n",
    "186.76000213623\n",
    "178.500032424927\n",
    "159.999966621399\n",
    "```\n"
   ]
  },
  {
   "cell_type": "markdown",
   "metadata": {},
   "source": [
    "#### 4. Display total cost, total Price and Margins grouped by Parent_MFG in table A \n",
    "\n",
    "\n",
    "\n",
    "``` mysql\n",
    "select a.Parent_MFG , sum(b.Unit_Cost) as Unit_Cost, sum(b.Unit_Price) as Unit_price, (sum( (b.quantity * b.unit_price) - (b.quantity * b.unit_cost) )/sum(b.quantity * b.unit_price) )*100 as profit_margin_pct\n",
    "from MFG a, sales_table b \n",
    "where a.MFG_Code = b.MFG_code\n",
    "group by a.Parent_MFG\n",
    "order by a.Parent_MFG;\n",
    "\n",
    "\n",
    "    Query #5 (Executed in 3ms)\n",
    "    | parent_mfg |\tunit_cost |\tunit_price |\tprofit_margin_pct|\n",
    "    ACG | Amphenol Connector Group \t970.132 \t1031.99 \t9.20290857973324\n",
    "    AVC | AVX Corporation \t59.7 \t75.85 \t14.0426265605136\n",
    "    KCC | KOA Corporation \t0.75 \t0.87 \t13.793100967702\n",
    "    KCO | Kemet Corporation \t29.14 \t41.515 \t28.4770947263481\n",
    "    TEG | TE Connectivity Group \t112.814 \t224.77 \t48.3635106304724\n",
    "```"
   ]
  },
  {
   "cell_type": "markdown",
   "metadata": {},
   "source": [
    "#### 5. \n",
    "\n",
    "```mysql\n",
    "\n",
    "select \n",
    "pt.type as type,\n",
    "sum((st.quantity * st.unit_price) - (st.quantity * st.unit_cost))      as total_revenue,\n",
    "sum(st.unit_cost) as total_cost\n",
    "from product_table pt, sales_table st\n",
    "where st.product = pt.product\n",
    "group by type\n",
    "order by type desc;\n",
    "\n",
    "    number_of_products \tquart\n",
    "    10029 \t1\n",
    "    8630 \t2\n",
    "    6742 \t3\n",
    "    568 \t4\n",
    "\n",
    "```"
   ]
  },
  {
   "cell_type": "code",
   "execution_count": null,
   "metadata": {},
   "outputs": [],
   "source": []
  }
 ],
 "metadata": {
  "kernelspec": {
   "display_name": "Python 3",
   "language": "python",
   "name": "python3"
  },
  "language_info": {
   "codemirror_mode": {
    "name": "ipython",
    "version": 3
   },
   "file_extension": ".py",
   "mimetype": "text/x-python",
   "name": "python",
   "nbconvert_exporter": "python",
   "pygments_lexer": "ipython3",
   "version": "3.6.3"
  }
 },
 "nbformat": 4,
 "nbformat_minor": 2
}
