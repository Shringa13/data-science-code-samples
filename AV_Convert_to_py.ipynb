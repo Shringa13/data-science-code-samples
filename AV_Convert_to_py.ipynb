{
 "cells": [
  {
   "cell_type": "code",
   "execution_count": 123,
   "metadata": {
    "collapsed": true
   },
   "outputs": [],
   "source": [
    "import numpy as np # linear algebra\n",
    "import pandas as pd # data processing, CSV file I/O (e.g. pd.read_csv)\n",
    "\n",
    "import matplotlib.pyplot as plt\n",
    "% matplotlib inline\n",
    "\n",
    "\n",
    "df = pd.read_csv('./data.csv', low_memory = False)\n",
    "pd.set_option('display.max_columns', 0)\n"
   ]
  },
  {
   "cell_type": "code",
   "execution_count": 79,
   "metadata": {},
   "outputs": [
    {
     "data": {
      "text/html": [
       "<div>\n",
       "<style scoped>\n",
       "    .dataframe tbody tr th:only-of-type {\n",
       "        vertical-align: middle;\n",
       "    }\n",
       "\n",
       "    .dataframe tbody tr th {\n",
       "        vertical-align: top;\n",
       "    }\n",
       "\n",
       "    .dataframe thead th {\n",
       "        text-align: right;\n",
       "    }\n",
       "</style>\n",
       "<table border=\"1\" class=\"dataframe\">\n",
       "  <thead>\n",
       "    <tr style=\"text-align: right;\">\n",
       "      <th></th>\n",
       "      <th>id</th>\n",
       "      <th>loan_amnt</th>\n",
       "      <th>term</th>\n",
       "      <th>installment</th>\n",
       "      <th>emp_length</th>\n",
       "      <th>home_ownership</th>\n",
       "      <th>annual_inc</th>\n",
       "      <th>verification_status</th>\n",
       "      <th>issue_d</th>\n",
       "      <th>loan_status</th>\n",
       "      <th>purpose</th>\n",
       "      <th>addr_state</th>\n",
       "      <th>dti</th>\n",
       "      <th>earliest_cr_line</th>\n",
       "      <th>fico_range_low</th>\n",
       "      <th>fico_range_high</th>\n",
       "      <th>last_credit_pull_d</th>\n",
       "      <th>last_fico_range_high</th>\n",
       "      <th>last_fico_range_low</th>\n",
       "      <th>acc_now_delinq</th>\n",
       "      <th>delinq_amnt</th>\n",
       "      <th>delinq_2yrs</th>\n",
       "      <th>mths_since_last_delinq</th>\n",
       "      <th>mths_since_last_record</th>\n",
       "      <th>inq_last_6mths</th>\n",
       "      <th>inq_last_12m</th>\n",
       "    </tr>\n",
       "  </thead>\n",
       "  <tbody>\n",
       "    <tr>\n",
       "      <th>0</th>\n",
       "      <td>88787390</td>\n",
       "      <td>30000</td>\n",
       "      <td>60 months</td>\n",
       "      <td>761.64</td>\n",
       "      <td>6 years</td>\n",
       "      <td>RENT</td>\n",
       "      <td>100100.0</td>\n",
       "      <td>Verified</td>\n",
       "      <td>Sep-2016</td>\n",
       "      <td>Current</td>\n",
       "      <td>debt_consolidation</td>\n",
       "      <td>SC</td>\n",
       "      <td>27.42</td>\n",
       "      <td>Jan-1976</td>\n",
       "      <td>690</td>\n",
       "      <td>694</td>\n",
       "      <td>Dec-2016</td>\n",
       "      <td>709</td>\n",
       "      <td>705</td>\n",
       "      <td>0</td>\n",
       "      <td>0</td>\n",
       "      <td>0</td>\n",
       "      <td>26.0</td>\n",
       "      <td>NaN</td>\n",
       "      <td>0</td>\n",
       "      <td>0.0</td>\n",
       "    </tr>\n",
       "    <tr>\n",
       "      <th>1</th>\n",
       "      <td>74722660</td>\n",
       "      <td>30000</td>\n",
       "      <td>60 months</td>\n",
       "      <td>692.93</td>\n",
       "      <td>10+ years</td>\n",
       "      <td>MORTGAGE</td>\n",
       "      <td>235000.0</td>\n",
       "      <td>Source Verified</td>\n",
       "      <td>Apr-2016</td>\n",
       "      <td>Current</td>\n",
       "      <td>home_improvement</td>\n",
       "      <td>PA</td>\n",
       "      <td>7.50</td>\n",
       "      <td>Jan-1995</td>\n",
       "      <td>670</td>\n",
       "      <td>674</td>\n",
       "      <td>Dec-2016</td>\n",
       "      <td>649</td>\n",
       "      <td>645</td>\n",
       "      <td>0</td>\n",
       "      <td>0</td>\n",
       "      <td>1</td>\n",
       "      <td>16.0</td>\n",
       "      <td>NaN</td>\n",
       "      <td>1</td>\n",
       "      <td>3.0</td>\n",
       "    </tr>\n",
       "    <tr>\n",
       "      <th>2</th>\n",
       "      <td>67919555</td>\n",
       "      <td>16000</td>\n",
       "      <td>60 months</td>\n",
       "      <td>379.39</td>\n",
       "      <td>6 years</td>\n",
       "      <td>RENT</td>\n",
       "      <td>84000.0</td>\n",
       "      <td>Not Verified</td>\n",
       "      <td>Jan-2016</td>\n",
       "      <td>Current</td>\n",
       "      <td>debt_consolidation</td>\n",
       "      <td>FL</td>\n",
       "      <td>27.87</td>\n",
       "      <td>Aug-1998</td>\n",
       "      <td>735</td>\n",
       "      <td>739</td>\n",
       "      <td>Dec-2016</td>\n",
       "      <td>739</td>\n",
       "      <td>735</td>\n",
       "      <td>0</td>\n",
       "      <td>0</td>\n",
       "      <td>0</td>\n",
       "      <td>80.0</td>\n",
       "      <td>NaN</td>\n",
       "      <td>0</td>\n",
       "      <td>2.0</td>\n",
       "    </tr>\n",
       "    <tr>\n",
       "      <th>3</th>\n",
       "      <td>54027458</td>\n",
       "      <td>14000</td>\n",
       "      <td>36 months</td>\n",
       "      <td>439.88</td>\n",
       "      <td>5 years</td>\n",
       "      <td>RENT</td>\n",
       "      <td>50000.0</td>\n",
       "      <td>Source Verified</td>\n",
       "      <td>Jul-2015</td>\n",
       "      <td>Fully Paid</td>\n",
       "      <td>debt_consolidation</td>\n",
       "      <td>WV</td>\n",
       "      <td>21.65</td>\n",
       "      <td>Oct-1996</td>\n",
       "      <td>725</td>\n",
       "      <td>729</td>\n",
       "      <td>Oct-2016</td>\n",
       "      <td>749</td>\n",
       "      <td>745</td>\n",
       "      <td>0</td>\n",
       "      <td>0</td>\n",
       "      <td>0</td>\n",
       "      <td>NaN</td>\n",
       "      <td>42.0</td>\n",
       "      <td>0</td>\n",
       "      <td>NaN</td>\n",
       "    </tr>\n",
       "    <tr>\n",
       "      <th>4</th>\n",
       "      <td>72594974</td>\n",
       "      <td>7500</td>\n",
       "      <td>36 months</td>\n",
       "      <td>252.67</td>\n",
       "      <td>3 years</td>\n",
       "      <td>MORTGAGE</td>\n",
       "      <td>68000.0</td>\n",
       "      <td>Not Verified</td>\n",
       "      <td>Feb-2016</td>\n",
       "      <td>Fully Paid</td>\n",
       "      <td>debt_consolidation</td>\n",
       "      <td>OH</td>\n",
       "      <td>29.09</td>\n",
       "      <td>Nov-2000</td>\n",
       "      <td>660</td>\n",
       "      <td>664</td>\n",
       "      <td>Dec-2016</td>\n",
       "      <td>709</td>\n",
       "      <td>705</td>\n",
       "      <td>0</td>\n",
       "      <td>0</td>\n",
       "      <td>0</td>\n",
       "      <td>NaN</td>\n",
       "      <td>NaN</td>\n",
       "      <td>2</td>\n",
       "      <td>5.0</td>\n",
       "    </tr>\n",
       "  </tbody>\n",
       "</table>\n",
       "</div>"
      ],
      "text/plain": [
       "         id  loan_amnt      ...      inq_last_6mths  inq_last_12m\n",
       "0  88787390      30000      ...                   0           0.0\n",
       "1  74722660      30000      ...                   1           3.0\n",
       "2  67919555      16000      ...                   0           2.0\n",
       "3  54027458      14000      ...                   0           NaN\n",
       "4  72594974       7500      ...                   2           5.0\n",
       "\n",
       "[5 rows x 26 columns]"
      ]
     },
     "execution_count": 79,
     "metadata": {},
     "output_type": "execute_result"
    }
   ],
   "source": [
    "df.head()"
   ]
  },
  {
   "cell_type": "code",
   "execution_count": 80,
   "metadata": {
    "collapsed": true
   },
   "outputs": [
    {
     "data": {
      "text/html": [
       "<div>\n",
       "<style scoped>\n",
       "    .dataframe tbody tr th:only-of-type {\n",
       "        vertical-align: middle;\n",
       "    }\n",
       "\n",
       "    .dataframe tbody tr th {\n",
       "        vertical-align: top;\n",
       "    }\n",
       "\n",
       "    .dataframe thead th {\n",
       "        text-align: right;\n",
       "    }\n",
       "</style>\n",
       "<table border=\"1\" class=\"dataframe\">\n",
       "  <thead>\n",
       "    <tr style=\"text-align: right;\">\n",
       "      <th></th>\n",
       "      <th>id</th>\n",
       "      <th>loan_amnt</th>\n",
       "      <th>installment</th>\n",
       "      <th>annual_inc</th>\n",
       "      <th>dti</th>\n",
       "      <th>fico_range_low</th>\n",
       "      <th>fico_range_high</th>\n",
       "      <th>last_fico_range_high</th>\n",
       "      <th>last_fico_range_low</th>\n",
       "      <th>acc_now_delinq</th>\n",
       "      <th>delinq_amnt</th>\n",
       "      <th>delinq_2yrs</th>\n",
       "      <th>mths_since_last_delinq</th>\n",
       "      <th>mths_since_last_record</th>\n",
       "      <th>inq_last_6mths</th>\n",
       "      <th>inq_last_12m</th>\n",
       "    </tr>\n",
       "  </thead>\n",
       "  <tbody>\n",
       "    <tr>\n",
       "      <th>count</th>\n",
       "      <td>8.000000e+04</td>\n",
       "      <td>80000.000000</td>\n",
       "      <td>80000.000000</td>\n",
       "      <td>8.000000e+04</td>\n",
       "      <td>80000.000000</td>\n",
       "      <td>80000.000000</td>\n",
       "      <td>80000.000000</td>\n",
       "      <td>80000.000000</td>\n",
       "      <td>80000.000000</td>\n",
       "      <td>80000.000000</td>\n",
       "      <td>80000.000000</td>\n",
       "      <td>80000.000000</td>\n",
       "      <td>41786.000000</td>\n",
       "      <td>14532.000000</td>\n",
       "      <td>80000.000000</td>\n",
       "      <td>37395.000000</td>\n",
       "    </tr>\n",
       "    <tr>\n",
       "      <th>mean</th>\n",
       "      <td>6.474229e+07</td>\n",
       "      <td>15055.793750</td>\n",
       "      <td>443.595158</td>\n",
       "      <td>7.778995e+04</td>\n",
       "      <td>19.446568</td>\n",
       "      <td>694.314000</td>\n",
       "      <td>698.314112</td>\n",
       "      <td>693.328225</td>\n",
       "      <td>686.068437</td>\n",
       "      <td>0.006488</td>\n",
       "      <td>16.692025</td>\n",
       "      <td>0.352275</td>\n",
       "      <td>33.964558</td>\n",
       "      <td>66.776356</td>\n",
       "      <td>0.565950</td>\n",
       "      <td>2.184009</td>\n",
       "    </tr>\n",
       "    <tr>\n",
       "      <th>std</th>\n",
       "      <td>1.488143e+07</td>\n",
       "      <td>8729.299624</td>\n",
       "      <td>255.693326</td>\n",
       "      <td>8.648673e+04</td>\n",
       "      <td>61.871127</td>\n",
       "      <td>30.744603</td>\n",
       "      <td>30.745156</td>\n",
       "      <td>58.631248</td>\n",
       "      <td>79.416694</td>\n",
       "      <td>0.084235</td>\n",
       "      <td>848.289643</td>\n",
       "      <td>0.942411</td>\n",
       "      <td>21.997469</td>\n",
       "      <td>25.205219</td>\n",
       "      <td>0.863342</td>\n",
       "      <td>2.473969</td>\n",
       "    </tr>\n",
       "    <tr>\n",
       "      <th>min</th>\n",
       "      <td>6.510400e+04</td>\n",
       "      <td>1000.000000</td>\n",
       "      <td>30.120000</td>\n",
       "      <td>0.000000e+00</td>\n",
       "      <td>0.000000</td>\n",
       "      <td>660.000000</td>\n",
       "      <td>664.000000</td>\n",
       "      <td>0.000000</td>\n",
       "      <td>0.000000</td>\n",
       "      <td>0.000000</td>\n",
       "      <td>0.000000</td>\n",
       "      <td>0.000000</td>\n",
       "      <td>0.000000</td>\n",
       "      <td>0.000000</td>\n",
       "      <td>0.000000</td>\n",
       "      <td>0.000000</td>\n",
       "    </tr>\n",
       "    <tr>\n",
       "      <th>25%</th>\n",
       "      <td>5.389471e+07</td>\n",
       "      <td>8000.000000</td>\n",
       "      <td>258.100000</td>\n",
       "      <td>4.700000e+04</td>\n",
       "      <td>12.430000</td>\n",
       "      <td>670.000000</td>\n",
       "      <td>674.000000</td>\n",
       "      <td>669.000000</td>\n",
       "      <td>665.000000</td>\n",
       "      <td>0.000000</td>\n",
       "      <td>0.000000</td>\n",
       "      <td>0.000000</td>\n",
       "      <td>15.000000</td>\n",
       "      <td>50.000000</td>\n",
       "      <td>0.000000</td>\n",
       "      <td>0.000000</td>\n",
       "    </tr>\n",
       "    <tr>\n",
       "      <th>50%</th>\n",
       "      <td>6.571584e+07</td>\n",
       "      <td>13275.000000</td>\n",
       "      <td>382.500000</td>\n",
       "      <td>6.500000e+04</td>\n",
       "      <td>18.440000</td>\n",
       "      <td>685.000000</td>\n",
       "      <td>689.000000</td>\n",
       "      <td>699.000000</td>\n",
       "      <td>695.000000</td>\n",
       "      <td>0.000000</td>\n",
       "      <td>0.000000</td>\n",
       "      <td>0.000000</td>\n",
       "      <td>31.000000</td>\n",
       "      <td>68.000000</td>\n",
       "      <td>0.000000</td>\n",
       "      <td>1.000000</td>\n",
       "    </tr>\n",
       "    <tr>\n",
       "      <th>75%</th>\n",
       "      <td>7.612197e+07</td>\n",
       "      <td>20000.000000</td>\n",
       "      <td>585.080000</td>\n",
       "      <td>9.250000e+04</td>\n",
       "      <td>25.170000</td>\n",
       "      <td>710.000000</td>\n",
       "      <td>714.000000</td>\n",
       "      <td>729.000000</td>\n",
       "      <td>725.000000</td>\n",
       "      <td>0.000000</td>\n",
       "      <td>0.000000</td>\n",
       "      <td>0.000000</td>\n",
       "      <td>50.000000</td>\n",
       "      <td>83.000000</td>\n",
       "      <td>1.000000</td>\n",
       "      <td>3.000000</td>\n",
       "    </tr>\n",
       "    <tr>\n",
       "      <th>max</th>\n",
       "      <td>9.094516e+07</td>\n",
       "      <td>40000.000000</td>\n",
       "      <td>1536.950000</td>\n",
       "      <td>8.706582e+06</td>\n",
       "      <td>9999.000000</td>\n",
       "      <td>845.000000</td>\n",
       "      <td>850.000000</td>\n",
       "      <td>850.000000</td>\n",
       "      <td>845.000000</td>\n",
       "      <td>3.000000</td>\n",
       "      <td>110626.000000</td>\n",
       "      <td>39.000000</td>\n",
       "      <td>146.000000</td>\n",
       "      <td>119.000000</td>\n",
       "      <td>6.000000</td>\n",
       "      <td>36.000000</td>\n",
       "    </tr>\n",
       "  </tbody>\n",
       "</table>\n",
       "</div>"
      ],
      "text/plain": [
       "                 id     loan_amnt      ...       inq_last_6mths  inq_last_12m\n",
       "count  8.000000e+04  80000.000000      ...         80000.000000  37395.000000\n",
       "mean   6.474229e+07  15055.793750      ...             0.565950      2.184009\n",
       "std    1.488143e+07   8729.299624      ...             0.863342      2.473969\n",
       "min    6.510400e+04   1000.000000      ...             0.000000      0.000000\n",
       "25%    5.389471e+07   8000.000000      ...             0.000000      0.000000\n",
       "50%    6.571584e+07  13275.000000      ...             0.000000      1.000000\n",
       "75%    7.612197e+07  20000.000000      ...             1.000000      3.000000\n",
       "max    9.094516e+07  40000.000000      ...             6.000000     36.000000\n",
       "\n",
       "[8 rows x 16 columns]"
      ]
     },
     "execution_count": 80,
     "metadata": {},
     "output_type": "execute_result"
    }
   ],
   "source": [
    "df.describe() ## look for variables with minimal variance "
   ]
  },
  {
   "cell_type": "markdown",
   "metadata": {},
   "source": [
    "variable\tDescription\n",
    "    id\tA unique assigned ID for the loan listing.\n",
    "    loan_amnt\tThe listed amount of the loan applied for by the borrower. If at some point in time, the credit department reduces the loan amount, then it will be reflected in this value.\n",
    "    \n",
    "term\tThe number of payments on the loan. Values are in months and can be either 36 or 60.\n",
    "    installment\tThe monthly payment owed by the borrower if the loan originates.\n",
    "    emp_length\tEmployment length in years. Possible values are between 0 and 10 where 0 means less than one year and 10 means ten or more years. \n",
    "    home_ownership\tThe home ownership status provided by the borrower during registration_or obtained from the credit report. Our values are: RENT, OWN, MORTGAGE, OTHER\n",
    "    annual_inc\tThe self-reported annual income provided by the borrower during registration.\n",
    "verification_status\tIndicates if income was verified, not verified, or if the income source was verified\n",
    "    issue_d\tThe month which the loan was funded\n",
    "    loan_status\tCurrent status of the loan\n",
    "    purpose\tA category provided by the borrower for the loan request. \n",
    "    \n",
    "    addr_state\tThe state provided by the borrower in the loan application\n",
    "    \n",
    "    dti\tA ratio calculated using the borroweres total monthly debt payments on the total debt obligations, excluding mortgage, divided by the borroweres self-reported monthly income.\n",
    "\n",
    "earliest_cr_line\tThe month the borrower's earliest reported credit line was opened\n",
    "\n",
    "fico_range_low\tAt the time of loan application, the lower boundary range the borrower's FICO at loan origination belongs to.\n",
    "\n",
    "fico_range_high\tAt the time of loan application, the upper boundary range the borrower's FICO at loan origination belongs to.\n",
    "\n",
    "acc_now_delinq\tAt the time of loan application, the number of accounts on which the borrower is now delinquent.\n",
    "\n",
    "delinq_amnt\tAt the time of loan application, the past-due amount owed for the accounts on which the borrower is now delinquent.\n",
    "\n",
    "delinq_2yrs\tAt the time of loan application, the number of 30+ days past-due incidences of delinquency in the \n",
    "borrower's credit file for the past 2 years\n",
    "\n",
    "mths_since_last_delinq\tAt the time of loan application, the number of months since the borrower's last delinquency.\n",
    "mths_since_last_record\tAt the time of loan application, the number of months since the last public record.\n",
    "inq_last_6mths\tAt the time of loan application, the number of inquiries in past 6 months (excluding auto and mortgage inquiries)\n",
    "inq_last_12m\tAt the time of loan application, number of credit inquiries in past 12 months\n",
    "last_credit_pull_d\tThe most recent month LC pulled credit for this loan\n",
    "last_fico_range_high\tThe upper boundary range the borrower's last FICO pulled belongs to.\n",
    "last_fico_range_low\tThe lower boundary range the borrower's last FICO pulled belongs to.\n"
   ]
  },
  {
   "cell_type": "code",
   "execution_count": 81,
   "metadata": {},
   "outputs": [
    {
     "data": {
      "text/plain": [
       "Index(['emp_length', 'last_credit_pull_d', 'mths_since_last_delinq',\n",
       "       'mths_since_last_record', 'inq_last_12m'],\n",
       "      dtype='object')"
      ]
     },
     "execution_count": 81,
     "metadata": {},
     "output_type": "execute_result"
    }
   ],
   "source": [
    "df.columns[df.isnull().any()] ## are there missing columns? "
   ]
  },
  {
   "cell_type": "code",
   "execution_count": 82,
   "metadata": {},
   "outputs": [
    {
     "data": {
      "text/plain": [
       "16"
      ]
     },
     "execution_count": 82,
     "metadata": {},
     "output_type": "execute_result"
    }
   ],
   "source": [
    "int(df.memory_usage(deep=False).sum() / 1000000) #MB"
   ]
  },
  {
   "cell_type": "code",
   "execution_count": 83,
   "metadata": {},
   "outputs": [
    {
     "data": {
      "text/plain": [
       "id                        0.000000\n",
       "loan_amnt                 0.000000\n",
       "term                      0.000000\n",
       "installment               0.000000\n",
       "emp_length                0.060862\n",
       "home_ownership            0.000000\n",
       "annual_inc                0.000000\n",
       "verification_status       0.000000\n",
       "issue_d                   0.000000\n",
       "loan_status               0.000000\n",
       "purpose                   0.000000\n",
       "addr_state                0.000000\n",
       "dti                       0.000000\n",
       "earliest_cr_line          0.000000\n",
       "fico_range_low            0.000000\n",
       "fico_range_high           0.000000\n",
       "last_credit_pull_d        0.000050\n",
       "last_fico_range_high      0.000000\n",
       "last_fico_range_low       0.000000\n",
       "acc_now_delinq            0.000000\n",
       "delinq_amnt               0.000000\n",
       "delinq_2yrs               0.000000\n",
       "mths_since_last_delinq    0.477675\n",
       "mths_since_last_record    0.818350\n",
       "inq_last_6mths            0.000000\n",
       "inq_last_12m              0.532563\n",
       "dtype: float64"
      ]
     },
     "execution_count": 83,
     "metadata": {},
     "output_type": "execute_result"
    }
   ],
   "source": [
    "df.isnull().sum()/80000 \n",
    "#%Missing data for each column.\n",
    "#Not a lot can be done if missing data is beyond ~50% without introducing another bias into it.\n",
    "## For now I will drop these columns an come back to it later \n",
    "## earliest_cr_line Older credit lines could be of interest if converted as a weight \n"
   ]
  },
  {
   "cell_type": "code",
   "execution_count": 84,
   "metadata": {},
   "outputs": [
    {
     "data": {
      "image/png": "[encoded data removed]",
      "text/plain": [
       "<matplotlib.figure.Figure at 0x7f300811eef0>"
      ]
     },
     "metadata": {},
     "output_type": "display_data"
    }
   ],
   "source": [
    "import missingno as msno\n",
    "\n",
    "msno.bar(df)\n"
   ]
  },
  {
   "cell_type": "code",
   "execution_count": 85,
   "metadata": {},
   "outputs": [
    {
     "data": {
      "text/plain": [
       "Current       62429\n",
       "Fully Paid    11534\n",
       "Default        6037\n",
       "Name: loan_status, dtype: int64"
      ]
     },
     "execution_count": 85,
     "metadata": {},
     "output_type": "execute_result"
    }
   ],
   "source": [
    "## After going through the data dictionary and looking at the values in Data. Loan status appears to be our target variable. \n",
    "## http://help.bitbond.com/article/20-the-10-loan-status-variants-explained \n",
    "df['loan_status'].value_counts()\n",
    "#Let's see how it is distributed. \n",
    "#Most of the loans look alright. Defaults is an under represented class. Since Current and Fully Paid are good loan types. \n"
   ]
  },
  {
   "cell_type": "code",
   "execution_count": 86,
   "metadata": {},
   "outputs": [
    {
     "data": {
      "image/png": "[encoded data removed]",
      "text/plain": [
       "<matplotlib.figure.Figure at 0x7f30080b7710>"
      ]
     },
     "metadata": {},
     "output_type": "display_data"
    }
   ],
   "source": [
    "plt.figure(figsize= (12,6))\n",
    "plt.ylabel('Loan Status')\n",
    "plt.xlabel('Count')\n",
    "df['loan_status'].value_counts().plot(kind = 'barh', grid = True)\n",
    "plt.show()"
   ]
  },
  {
   "cell_type": "code",
   "execution_count": 87,
   "metadata": {},
   "outputs": [
    {
     "data": {
      "text/plain": [
       "19569"
      ]
     },
     "execution_count": 87,
     "metadata": {},
     "output_type": "execute_result"
    }
   ],
   "source": [
    "len(df.installment.value_counts())"
   ]
  },
  {
   "cell_type": "code",
   "execution_count": 88,
   "metadata": {},
   "outputs": [
    {
     "data": {
      "text/html": [
       "<div>\n",
       "<style scoped>\n",
       "    .dataframe tbody tr th:only-of-type {\n",
       "        vertical-align: middle;\n",
       "    }\n",
       "\n",
       "    .dataframe tbody tr th {\n",
       "        vertical-align: top;\n",
       "    }\n",
       "\n",
       "    .dataframe thead th {\n",
       "        text-align: right;\n",
       "    }\n",
       "</style>\n",
       "<table border=\"1\" class=\"dataframe\">\n",
       "  <thead>\n",
       "    <tr style=\"text-align: right;\">\n",
       "      <th></th>\n",
       "      <th>id</th>\n",
       "      <th>loan_amnt</th>\n",
       "      <th>term</th>\n",
       "      <th>installment</th>\n",
       "      <th>emp_length</th>\n",
       "      <th>home_ownership</th>\n",
       "      <th>annual_inc</th>\n",
       "      <th>verification_status</th>\n",
       "      <th>issue_d</th>\n",
       "      <th>loan_status</th>\n",
       "      <th>purpose</th>\n",
       "      <th>addr_state</th>\n",
       "      <th>dti</th>\n",
       "      <th>earliest_cr_line</th>\n",
       "      <th>fico_range_low</th>\n",
       "      <th>fico_range_high</th>\n",
       "      <th>last_credit_pull_d</th>\n",
       "      <th>last_fico_range_high</th>\n",
       "      <th>last_fico_range_low</th>\n",
       "      <th>acc_now_delinq</th>\n",
       "      <th>delinq_amnt</th>\n",
       "      <th>delinq_2yrs</th>\n",
       "      <th>mths_since_last_delinq</th>\n",
       "      <th>mths_since_last_record</th>\n",
       "      <th>inq_last_6mths</th>\n",
       "      <th>inq_last_12m</th>\n",
       "    </tr>\n",
       "  </thead>\n",
       "  <tbody>\n",
       "    <tr>\n",
       "      <th>0</th>\n",
       "      <td>88787390</td>\n",
       "      <td>30000</td>\n",
       "      <td>60 months</td>\n",
       "      <td>761.64</td>\n",
       "      <td>6 years</td>\n",
       "      <td>RENT</td>\n",
       "      <td>100100.0</td>\n",
       "      <td>Verified</td>\n",
       "      <td>Sep-2016</td>\n",
       "      <td>Current</td>\n",
       "      <td>debt_consolidation</td>\n",
       "      <td>SC</td>\n",
       "      <td>27.42</td>\n",
       "      <td>Jan-1976</td>\n",
       "      <td>690</td>\n",
       "      <td>694</td>\n",
       "      <td>Dec-2016</td>\n",
       "      <td>709</td>\n",
       "      <td>705</td>\n",
       "      <td>0</td>\n",
       "      <td>0</td>\n",
       "      <td>0</td>\n",
       "      <td>26.0</td>\n",
       "      <td>NaN</td>\n",
       "      <td>0</td>\n",
       "      <td>0.0</td>\n",
       "    </tr>\n",
       "    <tr>\n",
       "      <th>1</th>\n",
       "      <td>74722660</td>\n",
       "      <td>30000</td>\n",
       "      <td>60 months</td>\n",
       "      <td>692.93</td>\n",
       "      <td>10+ years</td>\n",
       "      <td>MORTGAGE</td>\n",
       "      <td>235000.0</td>\n",
       "      <td>Source Verified</td>\n",
       "      <td>Apr-2016</td>\n",
       "      <td>Current</td>\n",
       "      <td>home_improvement</td>\n",
       "      <td>PA</td>\n",
       "      <td>7.50</td>\n",
       "      <td>Jan-1995</td>\n",
       "      <td>670</td>\n",
       "      <td>674</td>\n",
       "      <td>Dec-2016</td>\n",
       "      <td>649</td>\n",
       "      <td>645</td>\n",
       "      <td>0</td>\n",
       "      <td>0</td>\n",
       "      <td>1</td>\n",
       "      <td>16.0</td>\n",
       "      <td>NaN</td>\n",
       "      <td>1</td>\n",
       "      <td>3.0</td>\n",
       "    </tr>\n",
       "    <tr>\n",
       "      <th>2</th>\n",
       "      <td>67919555</td>\n",
       "      <td>16000</td>\n",
       "      <td>60 months</td>\n",
       "      <td>379.39</td>\n",
       "      <td>6 years</td>\n",
       "      <td>RENT</td>\n",
       "      <td>84000.0</td>\n",
       "      <td>Not Verified</td>\n",
       "      <td>Jan-2016</td>\n",
       "      <td>Current</td>\n",
       "      <td>debt_consolidation</td>\n",
       "      <td>FL</td>\n",
       "      <td>27.87</td>\n",
       "      <td>Aug-1998</td>\n",
       "      <td>735</td>\n",
       "      <td>739</td>\n",
       "      <td>Dec-2016</td>\n",
       "      <td>739</td>\n",
       "      <td>735</td>\n",
       "      <td>0</td>\n",
       "      <td>0</td>\n",
       "      <td>0</td>\n",
       "      <td>80.0</td>\n",
       "      <td>NaN</td>\n",
       "      <td>0</td>\n",
       "      <td>2.0</td>\n",
       "    </tr>\n",
       "    <tr>\n",
       "      <th>3</th>\n",
       "      <td>54027458</td>\n",
       "      <td>14000</td>\n",
       "      <td>36 months</td>\n",
       "      <td>439.88</td>\n",
       "      <td>5 years</td>\n",
       "      <td>RENT</td>\n",
       "      <td>50000.0</td>\n",
       "      <td>Source Verified</td>\n",
       "      <td>Jul-2015</td>\n",
       "      <td>Fully Paid</td>\n",
       "      <td>debt_consolidation</td>\n",
       "      <td>WV</td>\n",
       "      <td>21.65</td>\n",
       "      <td>Oct-1996</td>\n",
       "      <td>725</td>\n",
       "      <td>729</td>\n",
       "      <td>Oct-2016</td>\n",
       "      <td>749</td>\n",
       "      <td>745</td>\n",
       "      <td>0</td>\n",
       "      <td>0</td>\n",
       "      <td>0</td>\n",
       "      <td>NaN</td>\n",
       "      <td>42.0</td>\n",
       "      <td>0</td>\n",
       "      <td>NaN</td>\n",
       "    </tr>\n",
       "    <tr>\n",
       "      <th>4</th>\n",
       "      <td>72594974</td>\n",
       "      <td>7500</td>\n",
       "      <td>36 months</td>\n",
       "      <td>252.67</td>\n",
       "      <td>3 years</td>\n",
       "      <td>MORTGAGE</td>\n",
       "      <td>68000.0</td>\n",
       "      <td>Not Verified</td>\n",
       "      <td>Feb-2016</td>\n",
       "      <td>Fully Paid</td>\n",
       "      <td>debt_consolidation</td>\n",
       "      <td>OH</td>\n",
       "      <td>29.09</td>\n",
       "      <td>Nov-2000</td>\n",
       "      <td>660</td>\n",
       "      <td>664</td>\n",
       "      <td>Dec-2016</td>\n",
       "      <td>709</td>\n",
       "      <td>705</td>\n",
       "      <td>0</td>\n",
       "      <td>0</td>\n",
       "      <td>0</td>\n",
       "      <td>NaN</td>\n",
       "      <td>NaN</td>\n",
       "      <td>2</td>\n",
       "      <td>5.0</td>\n",
       "    </tr>\n",
       "  </tbody>\n",
       "</table>\n",
       "</div>"
      ],
      "text/plain": [
       "         id  loan_amnt      ...      inq_last_6mths  inq_last_12m\n",
       "0  88787390      30000      ...                   0           0.0\n",
       "1  74722660      30000      ...                   1           3.0\n",
       "2  67919555      16000      ...                   0           2.0\n",
       "3  54027458      14000      ...                   0           NaN\n",
       "4  72594974       7500      ...                   2           5.0\n",
       "\n",
       "[5 rows x 26 columns]"
      ]
     },
     "execution_count": 88,
     "metadata": {},
     "output_type": "execute_result"
    }
   ],
   "source": [
    "df.head()"
   ]
  },
  {
   "cell_type": "code",
   "execution_count": 89,
   "metadata": {},
   "outputs": [
    {
     "data": {
      "text/plain": [
       "term                          2\n",
       "installment               19569\n",
       "emp_length                   11\n",
       "home_ownership                4\n",
       "annual_inc                 7243\n",
       "verification_status           3\n",
       "issue_d                      21\n",
       "loan_status                   3\n",
       "purpose                      13\n",
       "addr_state                   50\n",
       "dti                        4288\n",
       "earliest_cr_line            629\n",
       "fico_range_low               38\n",
       "fico_range_high              38\n",
       "last_credit_pull_d           25\n",
       "last_fico_range_high         72\n",
       "last_fico_range_low          71\n",
       "acc_now_delinq                4\n",
       "delinq_amnt                 312\n",
       "delinq_2yrs                  21\n",
       "mths_since_last_delinq      115\n",
       "mths_since_last_record      120\n",
       "inq_last_6mths                7\n",
       "inq_last_12m                 32\n",
       "dtype: int64"
      ]
     },
     "execution_count": 89,
     "metadata": {},
     "output_type": "execute_result"
    }
   ],
   "source": [
    "## Some Asumptions: \n",
    "## Issue month will not have a large effect on the loan status \n",
    "## Same goes for address state, purpose \n",
    "\n",
    "## Should visualize these against target variable\n",
    "\n",
    "##'acc_now_delinq', Interesting description but virtually has no information, No one likes to report it?\n",
    "## Interesting how 6000 defaulted accounts in data and still \n",
    "## delinq variables have 400~ values \n",
    "\n",
    "\n",
    "## 'delinq_amnt', 'delinq_2yrs' 'mths_since_last_delinq',\n",
    "## 'mths_since_last_record', 'inq_last_6mths', 'inq_last_12m'\n",
    "df.iloc[:,2:].T.apply(lambda x: x.nunique(), axis=1)"
   ]
  },
  {
   "cell_type": "code",
   "execution_count": 90,
   "metadata": {},
   "outputs": [
    {
     "data": {
      "text/plain": [
       "verification_status\n",
       "Verified           23349\n",
       "Not Verified       23462\n",
       "Source Verified    33189\n",
       "dtype: int64"
      ]
     },
     "execution_count": 90,
     "metadata": {},
     "output_type": "execute_result"
    }
   ],
   "source": [
    "df.groupby('verification_status').size().sort_values()"
   ]
  },
  {
   "cell_type": "code",
   "execution_count": 91,
   "metadata": {
    "scrolled": true
   },
   "outputs": [
    {
     "name": "stderr",
     "output_type": "stream",
     "text": [
      "/home/raz/anaconda3/lib/python3.6/site-packages/ipykernel_launcher.py:2: FutureWarning: currently extract(expand=None) means expand=False (return Index/Series/DataFrame) but in a future version of pandas this will be changed to expand=True (return DataFrame)\n",
      "  \n"
     ]
    }
   ],
   "source": [
    "df['term'] = df['term'].str.split(' ').str[0]\n",
    "df['emp_length'] = df['emp_length'].str.extract('(\\d+)').astype(float)\n",
    "df['emp_length'] = df['emp_length'].fillna(df.emp_length.median())\n",
    "df['earliest_cr_line'] = df['earliest_cr_line'].str.split('-').str[1].astype(int) - min(df['earliest_cr_line'].str.split('-').str[1].astype(int))"
   ]
  },
  {
   "cell_type": "code",
   "execution_count": 92,
   "metadata": {
    "collapsed": true
   },
   "outputs": [],
   "source": [
    "df.mths_since_last_delinq = df.mths_since_last_delinq.fillna(df.mths_since_last_delinq.median())\n",
    "df.inq_last_12m = df.mths_since_last_delinq.fillna(df.inq_last_12m.median())"
   ]
  },
  {
   "cell_type": "code",
   "execution_count": 93,
   "metadata": {},
   "outputs": [
    {
     "data": {
      "text/plain": [
       "Dec-2016    71368\n",
       "Oct-2016     2638\n",
       "Nov-2016     1183\n",
       "Aug-2016      695\n",
       "Jul-2016      583\n",
       "Apr-2016      488\n",
       "Jun-2016      451\n",
       "Sep-2016      433\n",
       "Mar-2016      400\n",
       "May-2016      389\n",
       "Feb-2016      303\n",
       "Jan-2016      227\n",
       "Dec-2015      169\n",
       "Nov-2015      127\n",
       "Oct-2015      120\n",
       "Sep-2015      106\n",
       "Aug-2015       91\n",
       "Jul-2015       79\n",
       "Jun-2015       43\n",
       "Apr-2015       31\n",
       "May-2015       29\n",
       "Mar-2015       24\n",
       "Feb-2015       12\n",
       "Jan-2015        5\n",
       "Dec-2014        2\n",
       "Name: last_credit_pull_d, dtype: int64"
      ]
     },
     "execution_count": 93,
     "metadata": {},
     "output_type": "execute_result"
    }
   ],
   "source": [
    "df.last_credit_pull_d.value_counts()"
   ]
  },
  {
   "cell_type": "code",
   "execution_count": 94,
   "metadata": {
    "collapsed": true
   },
   "outputs": [],
   "source": [
    "df['last_credit_pull_d'] = df['last_credit_pull_d'].fillna(\"2016-12-01\")"
   ]
  },
  {
   "cell_type": "code",
   "execution_count": 95,
   "metadata": {
    "collapsed": true
   },
   "outputs": [],
   "source": [
    "to_del =  ['id',\"mths_since_last_record\" ,\"acc_now_delinq\",\"addr_state\",\"purpose\"]\n",
    "df.drop(to_del, inplace=True, axis=1)"
   ]
  },
  {
   "cell_type": "code",
   "execution_count": 96,
   "metadata": {
    "scrolled": true
   },
   "outputs": [
    {
     "name": "stdout",
     "output_type": "stream",
     "text": [
      "<class 'pandas.core.frame.DataFrame'>\n",
      "RangeIndex: 80000 entries, 0 to 79999\n",
      "Data columns (total 22 columns):\n",
      "loan_amnt                 80000 non-null int64\n",
      "term                      80000 non-null object\n",
      "installment               80000 non-null float64\n",
      "emp_length                80000 non-null float64\n",
      "home_ownership            80000 non-null object\n",
      "annual_inc                80000 non-null float64\n",
      "verification_status       80000 non-null object\n",
      "issue_d                   80000 non-null object\n",
      "loan_status               80000 non-null object\n",
      "purpose                   80000 non-null object\n",
      "dti                       80000 non-null float64\n",
      "earliest_cr_line          80000 non-null int64\n",
      "fico_range_low            80000 non-null int64\n",
      "fico_range_high           80000 non-null int64\n",
      "last_credit_pull_d        80000 non-null object\n",
      "last_fico_range_high      80000 non-null int64\n",
      "last_fico_range_low       80000 non-null int64\n",
      "delinq_amnt               80000 non-null int64\n",
      "delinq_2yrs               80000 non-null int64\n",
      "mths_since_last_delinq    80000 non-null float64\n",
      "inq_last_6mths            80000 non-null int64\n",
      "inq_last_12m              80000 non-null float64\n",
      "dtypes: float64(6), int64(9), object(7)\n",
      "memory usage: 13.4+ MB\n"
     ]
    }
   ],
   "source": [
    "df.info()\n"
   ]
  },
  {
   "cell_type": "code",
   "execution_count": 97,
   "metadata": {},
   "outputs": [
    {
     "data": {
      "text/plain": [
       "Current       62429\n",
       "Fully Paid    11534\n",
       "Default        6037\n",
       "Name: loan_status, dtype: int64"
      ]
     },
     "execution_count": 97,
     "metadata": {},
     "output_type": "execute_result"
    }
   ],
   "source": [
    "df['loan_status'].value_counts()"
   ]
  },
  {
   "cell_type": "code",
   "execution_count": 98,
   "metadata": {
    "collapsed": true
   },
   "outputs": [],
   "source": [
    "df['defaulted'] = np.where((df.loan_status == \"Fully Paid\") |\n",
    "                        (df.loan_status == \"Current\"), 0, 1)\n",
    "\n",
    "df.drop(\"loan_status\", inplace=True, axis=1)"
   ]
  },
  {
   "cell_type": "code",
   "execution_count": 99,
   "metadata": {},
   "outputs": [
    {
     "data": {
      "text/plain": [
       "0    73963\n",
       "1     6037\n",
       "Name: defaulted, dtype: int64"
      ]
     },
     "execution_count": 99,
     "metadata": {},
     "output_type": "execute_result"
    }
   ],
   "source": [
    "df['defaulted'].value_counts()"
   ]
  },
  {
   "cell_type": "code",
   "execution_count": 100,
   "metadata": {
    "collapsed": true
   },
   "outputs": [],
   "source": [
    "df['last_credit_pull_d'] = pd.to_datetime(df['last_credit_pull_d']).dt.strftime('%m-%Y')\n",
    "df['last_credit_pull_d'] = pd.to_datetime(df['last_credit_pull_d'])\n",
    "df['last_credit_pull_d'] = df['last_credit_pull_d'].apply(lambda x: x.toordinal())\n",
    "\n",
    "df['issue_d'] = pd.to_datetime(df['issue_d']).dt.strftime('%m-%Y')\n",
    "df['issue_d'] = pd.to_datetime(df['issue_d'])\n",
    "df['issue_d'] = df['issue_d'].apply(lambda x: x.toordinal())"
   ]
  },
  {
   "cell_type": "code",
   "execution_count": 106,
   "metadata": {
    "scrolled": true
   },
   "outputs": [
    {
     "name": "stdout",
     "output_type": "stream",
     "text": [
      "19 Upadated List of Continuous Features \n",
      " ['loan_amnt', 'term', 'installment', 'emp_length', 'annual_inc', 'issue_d', 'dti', 'earliest_cr_line', 'fico_range_low', 'fico_range_high', 'last_credit_pull_d', 'last_fico_range_high', 'last_fico_range_low', 'delinq_amnt', 'delinq_2yrs', 'mths_since_last_delinq', 'inq_last_6mths', 'inq_last_12m', 'defaulted']\n",
      "3 Upadated List of Cat Features \n",
      " ['home_ownership', 'verification_status', 'purpose']\n"
     ]
    }
   ],
   "source": [
    "catFeatures = []\n",
    "numFeatures = []\n",
    "for col,x in df.iloc[1,:].iteritems():\n",
    "    if(not str(x).strip().isalpha()):\n",
    "        numFeatures.append(col)\n",
    "    else:\n",
    "        catFeatures.append(col)\n",
    "\n",
    "catFeatures.append(\"verification_status\")\n",
    "numFeatures.remove(\"verification_status\")\n",
    "\n",
    "print(len(numFeatures), \"Upadated List of Continuous Features \\n\", numFeatures)\n",
    "print(len(catFeatures), \"Upadated List of Cat Features \\n\", catFeatures)"
   ]
  },
  {
   "cell_type": "code",
   "execution_count": 107,
   "metadata": {},
   "outputs": [
    {
     "data": {
      "text/plain": [
       "loan_amnt                            30000\n",
       "term                                    60\n",
       "installment                         692.93\n",
       "emp_length                              10\n",
       "home_ownership                    MORTGAGE\n",
       "annual_inc                          235000\n",
       "verification_status        Source Verified\n",
       "issue_d                             736055\n",
       "purpose                   home_improvement\n",
       "dti                                    7.5\n",
       "earliest_cr_line                        51\n",
       "fico_range_low                         670\n",
       "fico_range_high                        674\n",
       "last_credit_pull_d                  736299\n",
       "last_fico_range_high                   649\n",
       "last_fico_range_low                    645\n",
       "delinq_amnt                              0\n",
       "delinq_2yrs                              1\n",
       "mths_since_last_delinq                  16\n",
       "inq_last_6mths                           1\n",
       "inq_last_12m                            16\n",
       "defaulted                                0\n",
       "Name: 1, dtype: object"
      ]
     },
     "execution_count": 107,
     "metadata": {},
     "output_type": "execute_result"
    }
   ],
   "source": [
    "df.iloc[1,:]"
   ]
  },
  {
   "cell_type": "code",
   "execution_count": 109,
   "metadata": {},
   "outputs": [
    {
     "data": {
      "text/plain": [
       "True"
      ]
     },
     "execution_count": 109,
     "metadata": {},
     "output_type": "execute_result"
    }
   ],
   "source": [
    "len(catFeatures) + len(numFeatures) == len(df.columns) "
   ]
  },
  {
   "cell_type": "code",
   "execution_count": 110,
   "metadata": {},
   "outputs": [
    {
     "data": {
      "text/html": [
       "<div>\n",
       "<style scoped>\n",
       "    .dataframe tbody tr th:only-of-type {\n",
       "        vertical-align: middle;\n",
       "    }\n",
       "\n",
       "    .dataframe tbody tr th {\n",
       "        vertical-align: top;\n",
       "    }\n",
       "\n",
       "    .dataframe thead th {\n",
       "        text-align: right;\n",
       "    }\n",
       "</style>\n",
       "<table border=\"1\" class=\"dataframe\">\n",
       "  <thead>\n",
       "    <tr style=\"text-align: right;\">\n",
       "      <th></th>\n",
       "      <th>loan_amnt</th>\n",
       "      <th>term</th>\n",
       "      <th>installment</th>\n",
       "      <th>emp_length</th>\n",
       "      <th>home_ownership</th>\n",
       "      <th>annual_inc</th>\n",
       "      <th>verification_status</th>\n",
       "      <th>issue_d</th>\n",
       "      <th>purpose</th>\n",
       "      <th>dti</th>\n",
       "      <th>earliest_cr_line</th>\n",
       "      <th>fico_range_low</th>\n",
       "      <th>fico_range_high</th>\n",
       "      <th>last_credit_pull_d</th>\n",
       "      <th>last_fico_range_high</th>\n",
       "      <th>last_fico_range_low</th>\n",
       "      <th>delinq_amnt</th>\n",
       "      <th>delinq_2yrs</th>\n",
       "      <th>mths_since_last_delinq</th>\n",
       "      <th>inq_last_6mths</th>\n",
       "      <th>inq_last_12m</th>\n",
       "      <th>defaulted</th>\n",
       "    </tr>\n",
       "  </thead>\n",
       "  <tbody>\n",
       "    <tr>\n",
       "      <th>0</th>\n",
       "      <td>30000</td>\n",
       "      <td>60</td>\n",
       "      <td>761.64</td>\n",
       "      <td>6.0</td>\n",
       "      <td>RENT</td>\n",
       "      <td>100100.0</td>\n",
       "      <td>Verified</td>\n",
       "      <td>736208</td>\n",
       "      <td>debt_consolidation</td>\n",
       "      <td>27.42</td>\n",
       "      <td>32</td>\n",
       "      <td>690</td>\n",
       "      <td>694</td>\n",
       "      <td>736299</td>\n",
       "      <td>709</td>\n",
       "      <td>705</td>\n",
       "      <td>0</td>\n",
       "      <td>0</td>\n",
       "      <td>26.0</td>\n",
       "      <td>0</td>\n",
       "      <td>26.0</td>\n",
       "      <td>0</td>\n",
       "    </tr>\n",
       "  </tbody>\n",
       "</table>\n",
       "</div>"
      ],
      "text/plain": [
       "   loan_amnt term    ...      inq_last_12m  defaulted\n",
       "0      30000   60    ...              26.0          0\n",
       "\n",
       "[1 rows x 22 columns]"
      ]
     },
     "execution_count": 110,
     "metadata": {},
     "output_type": "execute_result"
    }
   ],
   "source": [
    "df.iloc[:1,:]"
   ]
  },
  {
   "cell_type": "code",
   "execution_count": 133,
   "metadata": {},
   "outputs": [
    {
     "name": "stderr",
     "output_type": "stream",
     "text": [
      "/home/raz/anaconda3/lib/python3.6/site-packages/seaborn/categorical.py:1468: FutureWarning: remove_na is deprecated and is a private function. Do not use.\n",
      "  stat_data = remove_na(group_data[hue_mask])\n"
     ]
    },
    {
     "data": {
      "image/png": "[encoded data removed]",
      "text/plain": [
       "<matplotlib.figure.Figure at 0x7f3003721588>"
      ]
     },
     "metadata": {},
     "output_type": "display_data"
    }
   ],
   "source": [
    "import seaborn as sns\n",
    "plt.figure(figsize=(15,8))\n",
    "\n",
    "sns.countplot(x=\"verification_status\", hue='loan_status', data=df)\n",
    "plt.ylabel('Number of Occurrences', fontsize=12)\n",
    "plt.xlabel(\"verification_status\", fontsize=12)\n",
    "plt.show()"
   ]
  },
  {
   "cell_type": "code",
   "execution_count": 112,
   "metadata": {
    "collapsed": true
   },
   "outputs": [],
   "source": [
    "X_cat = pd.get_dummies(df , columns=catFeatures)\n",
    "y = X_cat['defaulted']\n",
    "X_cat.drop(\"defaulted\", inplace = True, axis =1 )"
   ]
  },
  {
   "cell_type": "code",
   "execution_count": 113,
   "metadata": {
    "collapsed": true
   },
   "outputs": [],
   "source": [
    "from sklearn.model_selection import train_test_split\n",
    "\n",
    "X = X_cat.iloc[:, df.columns != 'defaulted']\n",
    "## stratify is default \n",
    "X_train, X_test, y_train, y_test = train_test_split(X, y, test_size=0.20, random_state=2111)"
   ]
  },
  {
   "cell_type": "code",
   "execution_count": 114,
   "metadata": {
    "collapsed": true
   },
   "outputs": [],
   "source": [
    "from sklearn.preprocessing import RobustScaler\n",
    "\n",
    "rs = RobustScaler()\n",
    "X_rs = rs.fit_transform(X_train)\n",
    "X_ts = rs.transform(X_test)"
   ]
  },
  {
   "cell_type": "code",
   "execution_count": 115,
   "metadata": {},
   "outputs": [
    {
     "name": "stdout",
     "output_type": "stream",
     "text": [
      "GaussianNB(priors=None)\n",
      "[ 0.93002187  0.9425      0.9384375   0.9440625   0.94154423]\n",
      "Accuracy: 0.94 (+/- 0.01)\n",
      "\n",
      "             precision    recall  f1-score   support\n",
      "\n",
      "          0       0.97      0.98      0.97     14791\n",
      "          1       0.69      0.59      0.63      1209\n",
      "\n",
      "avg / total       0.95      0.95      0.95     16000\n",
      "\n",
      "[[14467   324]\n",
      " [  501   708]]\n"
     ]
    }
   ],
   "source": [
    "from sklearn.model_selection import cross_val_score\n",
    "from sklearn.naive_bayes import GaussianNB\n",
    "from sklearn import metrics\n",
    "nbclf = GaussianNB()\n",
    "nbclf.fit(X_rs, y_train)\n",
    "\n",
    "print(nbclf)\n",
    "# make predictions\n",
    "y_p = nbclf.predict(X_ts)\n",
    "scores = cross_val_score(nbclf, X_ts, y_test, cv=5)\n",
    "print(scores)\n",
    "print(\"Accuracy: %0.2f (+/- %0.2f)\\n\" % (scores.mean(), scores.std() * 2))\n",
    "print(metrics.classification_report(y_test, y_p))\n",
    "print(metrics.confusion_matrix(y_test, y_p))"
   ]
  },
  {
   "cell_type": "code",
   "execution_count": 116,
   "metadata": {},
   "outputs": [
    {
     "name": "stdout",
     "output_type": "stream",
     "text": [
      "[ 0.95515975  0.95383173  0.95679687  0.95413704  0.95234003]\n",
      "Accuracy: 0.95 (+/- 0.00)\n",
      "\n",
      "             precision    recall  f1-score   support\n",
      "\n",
      "          0       0.96      0.99      0.97     14791\n",
      "          1       0.76      0.55      0.64      1209\n",
      "\n",
      "avg / total       0.95      0.95      0.95     16000\n",
      "\n",
      "[[14584   207]\n",
      " [  546   663]]\n"
     ]
    }
   ],
   "source": [
    "from sklearn.ensemble import RandomForestClassifier\n",
    "from sklearn import metrics as mt\n",
    "\n",
    "rclf = RandomForestClassifier(n_estimators=700, random_state=2111, n_jobs=-1)\n",
    "rclf.fit(X_train, y_train)\n",
    "scores = cross_val_score(rclf, X_train, y_train, cv=5)\n",
    "print(scores)\n",
    "\n",
    "ypred = rclf.predict(X_test)\n",
    "\n",
    "\n",
    "print(\"Accuracy: %0.2f (+/- %0.2f)\\n\" % (scores.mean(), scores.std() * 2))\n",
    "\n",
    "\n",
    "print(mt.classification_report(y_test, ypred))\n",
    "print(mt.confusion_matrix(y_test, ypred))"
   ]
  },
  {
   "cell_type": "code",
   "execution_count": 117,
   "metadata": {
    "collapsed": true
   },
   "outputs": [],
   "source": [
    "from imblearn.over_sampling import SMOTE\n",
    "X_tsm, y_tsm = SMOTE().fit_sample(X_rs, y_train)"
   ]
  },
  {
   "cell_type": "code",
   "execution_count": 118,
   "metadata": {},
   "outputs": [
    {
     "name": "stdout",
     "output_type": "stream",
     "text": [
      "GaussianNB(priors=None)\n",
      "[ 0.93002187  0.9425      0.9384375   0.9440625   0.94154423]\n",
      "Accuracy: 0.94 (+/- 0.01)\n",
      "\n",
      "             precision    recall  f1-score   support\n",
      "\n",
      "          0       0.98      0.92      0.95     14791\n",
      "          1       0.45      0.77      0.57      1209\n",
      "\n",
      "avg / total       0.94      0.91      0.92     16000\n",
      "\n",
      "[[13638  1153]\n",
      " [  279   930]]\n"
     ]
    }
   ],
   "source": [
    "from sklearn.model_selection import cross_val_score\n",
    "from sklearn.naive_bayes import GaussianNB\n",
    "from sklearn import metrics\n",
    "nbclf = GaussianNB()\n",
    "nbclf.fit(X_tsm, y_tsm)\n",
    "\n",
    "print(nbclf)\n",
    "# make predictions\n",
    "y_p = nbclf.predict(X_ts)\n",
    "scores = cross_val_score(nbclf, X_ts, y_test, cv=5)\n",
    "print(scores)\n",
    "print(\"Accuracy: %0.2f (+/- %0.2f)\\n\" % (scores.mean(), scores.std() * 2))\n",
    "print(metrics.classification_report(y_test, y_p))\n",
    "print(metrics.confusion_matrix(y_test, y_p))"
   ]
  },
  {
   "cell_type": "code",
   "execution_count": 119,
   "metadata": {},
   "outputs": [
    {
     "name": "stdout",
     "output_type": "stream",
     "text": [
      "[ 0.95720087  0.9521875   0.950625    0.9528125   0.95185996]\n",
      "Accuracy: 0.95 (+/- 0.00)\n",
      "\n"
     ]
    }
   ],
   "source": [
    "from sklearn.ensemble import RandomForestClassifier\n",
    "from sklearn import metrics as mt\n",
    "\n",
    "rclf = RandomForestClassifier(n_estimators=700, random_state=2111, n_jobs=-1)\n",
    "rclf.fit(X_tsm, y_tsm)\n",
    "scores = cross_val_score(rclf,X_ts, y_test, cv=5)\n",
    "print(scores)\n",
    "\n",
    "ypred = rclf.predict(X_ts)\n",
    "print(\"Accuracy: %0.2f (+/- %0.2f)\\n\" % (scores.mean(), scores.std() * 2))"
   ]
  },
  {
   "cell_type": "code",
   "execution_count": 120,
   "metadata": {},
   "outputs": [
    {
     "name": "stdout",
     "output_type": "stream",
     "text": [
      "             precision    recall  f1-score   support\n",
      "\n",
      "          0       0.97      0.97      0.97     14791\n",
      "          1       0.67      0.66      0.67      1209\n",
      "\n",
      "avg / total       0.95      0.95      0.95     16000\n",
      "\n",
      "[[14400   391]\n",
      " [  409   800]]\n"
     ]
    }
   ],
   "source": [
    "print(mt.classification_report(y_test, ypred))\n",
    "print(mt.confusion_matrix(y_test, ypred))"
   ]
  },
  {
   "cell_type": "code",
   "execution_count": 121,
   "metadata": {},
   "outputs": [
    {
     "name": "stdout",
     "output_type": "stream",
     "text": [
      "Feature ranking:\n",
      "1. feature loan_amnt (0.317538)\n",
      "2. feature term (0.278497)\n",
      "3. feature installment (0.050616)\n",
      "4. feature emp_length (0.040324)\n",
      "5. feature annual_inc (0.035362)\n",
      "6. feature issue_d (0.035270)\n",
      "7. feature dti (0.034015)\n",
      "8. feature earliest_cr_line (0.027608)\n",
      "9. feature fico_range_low (0.024004)\n",
      "10. feature fico_range_high (0.022693)\n",
      "11. feature last_credit_pull_d (0.022331)\n",
      "12. feature last_fico_range_high (0.021611)\n",
      "13. feature last_fico_range_low (0.020678)\n",
      "14. feature delinq_amnt (0.019708)\n",
      "15. feature delinq_2yrs (0.013417)\n",
      "16. feature mths_since_last_delinq (0.013402)\n",
      "17. feature inq_last_6mths (0.010657)\n",
      "18. feature inq_last_12m (0.007045)\n",
      "19. feature home_ownership_ANY (0.004883)\n",
      "20. feature home_ownership_MORTGAGE (0.000341)\n",
      "21. feature home_ownership_OWN (0.000000)\n"
     ]
    },
    {
     "data": {
      "image/png": "[encoded data removed]",
      "text/plain": [
       "<matplotlib.figure.Figure at 0x7f300012b4a8>"
      ]
     },
     "metadata": {},
     "output_type": "display_data"
    }
   ],
   "source": [
    "importances = rclf.feature_importances_\n",
    "std = np.std([tree.feature_importances_ for tree in rclf.estimators_],\n",
    "             axis=0)\n",
    "indices = np.argsort(importances)[::-1]\n",
    "\n",
    "# Print the feature ranking\n",
    "print(\"Feature ranking:\")\n",
    "\n",
    "for f in range(X.shape[1]):\n",
    "    print(\"%d. feature %s (%f)\" % (f + 1, X.columns[f], importances[indices[f]]))\n",
    "\n",
    "# Plot the feature importances of the forest\n",
    "plt.figure()\n",
    "plt.title(\"Feature importances\")\n",
    "plt.bar(range(X.shape[1]), importances[indices],\n",
    "       color=\"r\", yerr=std[indices], align=\"center\")\n",
    "plt.xticks(range(X.shape[1]), indices)\n",
    "plt.xlim([-1, X.shape[1]])\n",
    "plt.show()"
   ]
  },
  {
   "cell_type": "code",
   "execution_count": 140,
   "metadata": {},
   "outputs": [
    {
     "data": {
      "text/plain": [
       "18"
      ]
     },
     "execution_count": 140,
     "metadata": {},
     "output_type": "execute_result"
    }
   ],
   "source": [
    "len(numFeatures[1:])\n"
   ]
  },
  {
   "cell_type": "code",
   "execution_count": 144,
   "metadata": {},
   "outputs": [
    {
     "name": "stdout",
     "output_type": "stream",
     "text": [
      "fico_range_low and fico_range_high = 1.00000\n",
      "term and installment = 0.94375\n",
      "last_fico_range_high and last_fico_range_low = 0.87421\n"
     ]
    }
   ],
   "source": [
    "data_cor = X.corr()\n",
    "# Set the threshold and add to pairs to list\n",
    "t = 0.70\n",
    "cor_list = []\n",
    "\n",
    "#Find Pairs and update cor_list\n",
    "for i in range(0,18):\n",
    "    for j in range(i+1,18):\n",
    "        if (data_cor.iloc[i,j] >= t and data_cor.iloc[i,j] < 1) or (data_cor.iloc[i,j] < 0 and data_cor.iloc[i,j] <= -t):\n",
    "            cor_list.append([data_cor.iloc[i,j],i,j])\n",
    "\n",
    "#Sort by corr coef\n",
    "sorted_list = sorted(cor_list,key=lambda x: -abs(x[0]))\n",
    "\n",
    "for v,i,j in sorted_list:\n",
    "    print (\"%s and %s = %.5f\" % (numFeatures[1:][i],numFeatures[1:][j],v))"
   ]
  },
  {
   "cell_type": "code",
   "execution_count": 147,
   "metadata": {
    "collapsed": true
   },
   "outputs": [],
   "source": [
    "X_norm = (X_norm - X_norm.min())/(X_norm.max() - X_norm.min())\n"
   ]
  },
  {
   "cell_type": "code",
   "execution_count": 152,
   "metadata": {
    "collapsed": true
   },
   "outputs": [],
   "source": [
    "from sklearn.preprocessing import MinMaxScaler\n",
    "\n",
    "scaler = MinMaxScaler()\n",
    "scaler.fit(X)\n",
    "trnsf = scaler.transform(X)"
   ]
  },
  {
   "cell_type": "code",
   "execution_count": 153,
   "metadata": {
    "scrolled": true
   },
   "outputs": [
    {
     "data": {
      "image/png": "[encoded data removed]",
      "text/plain": [
       "<matplotlib.figure.Figure at 0x7f3001becdd8>"
      ]
     },
     "metadata": {},
     "output_type": "display_data"
    }
   ],
   "source": [
    "from sklearn.decomposition import PCA\n",
    "from sklearn.discriminant_analysis import LinearDiscriminantAnalysis as LDA\n",
    "plt.figure(figsize=(15,8))\n",
    "\n",
    "pca = PCA(n_components=2) #2-dimensional PCA\n",
    "transformed = pd.DataFrame(pca.fit_transform(trnsf))\n",
    "plt.scatter(transformed[y==0][0], transformed[y==0][1], label='Non-Defaulters', c='green')\n",
    "plt.scatter(transformed[y==1][0], transformed[y==1][1], label='Defaulters', c='red')\n",
    "\n",
    "plt.legend()\n",
    "plt.show()"
   ]
  },
  {
   "cell_type": "markdown",
   "metadata": {},
   "source": []
  }
 ],
 "metadata": {
  "kernelspec": {
   "display_name": "Python 3",
   "language": "python",
   "name": "python3"
  },
  "language_info": {
   "codemirror_mode": {
    "name": "ipython",
    "version": 3
   },
   "file_extension": ".py",
   "mimetype": "text/x-python",
   "name": "python",
   "nbconvert_exporter": "python",
   "pygments_lexer": "ipython3",
   "version": "3.6.3"
  }
 },
 "nbformat": 4,
 "nbformat_minor": 2
}
